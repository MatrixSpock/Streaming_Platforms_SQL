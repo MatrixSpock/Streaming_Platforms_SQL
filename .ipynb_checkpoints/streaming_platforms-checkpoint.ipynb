{
 "cells": [
  {
   "cell_type": "markdown",
   "metadata": {},
   "source": [
    "# 1. Importing the Libraries"
   ]
  },
  {
   "cell_type": "code",
   "execution_count": 1,
   "metadata": {},
   "outputs": [],
   "source": [
    "# importing packages\n",
    "import yaml\n",
    "import numpy as np \n",
    "import pandas as pd \n",
    "import matplotlib.pyplot as plt\n",
    "import mysql.connector\n",
    "import seaborn as sns\n",
    "import warnings \n",
    "warnings.filterwarnings('ignore')"
   ]
  },
  {
   "cell_type": "markdown",
   "metadata": {},
   "source": [
    "# 2. Data Extraction"
   ]
  },
  {
   "cell_type": "code",
   "execution_count": 2,
   "metadata": {},
   "outputs": [],
   "source": [
    "# # Access dataset paths\n",
    "# dataset1_path = config['dataset_paths']['dataset1']\n",
    "# dataset2_path = config['dataset_paths']['dataset2']\n",
    "# dataset3_path = config['dataset_paths']['dataset3']\n",
    "\n",
    "\n",
    "# # loading the data \n",
    "# # Use the paths from the configuration to read datasets\n",
    "# amazon_df = pd.read_csv(dataset1_path)\n",
    "# disney_df = pd.read_csv(dataset2_path)\n",
    "# netflix_df = pd.read_csv(dataset3_path)\n",
    "\n",
    "amazon_df = pd.read_csv(\"datasets/amazon_prime_titles.csv\")\n",
    "disney_df = pd.read_csv(\"datasets/disney_plus_titles.csv\")\n",
    "netflix_df = pd.read_csv(\"datasets/netflix_titles.csv\")\n"
   ]
  },
  {
   "cell_type": "markdown",
   "metadata": {},
   "source": [
    "# 3. Exploratory Data Analysis\n",
    "\n",
    "## 3.1 Shape"
   ]
  },
  {
   "cell_type": "code",
   "execution_count": 3,
   "metadata": {},
   "outputs": [
    {
     "data": {
      "text/plain": [
       "(9668, 12)"
      ]
     },
     "execution_count": 3,
     "metadata": {},
     "output_type": "execute_result"
    }
   ],
   "source": [
    "amazon_df.shape"
   ]
  },
  {
   "cell_type": "code",
   "execution_count": 4,
   "metadata": {},
   "outputs": [
    {
     "data": {
      "text/plain": [
       "(1450, 12)"
      ]
     },
     "execution_count": 4,
     "metadata": {},
     "output_type": "execute_result"
    }
   ],
   "source": [
    "disney_df.shape"
   ]
  },
  {
   "cell_type": "code",
   "execution_count": 5,
   "metadata": {},
   "outputs": [
    {
     "data": {
      "text/plain": [
       "(8807, 12)"
      ]
     },
     "execution_count": 5,
     "metadata": {},
     "output_type": "execute_result"
    }
   ],
   "source": [
    "netflix_df.shape"
   ]
  },
  {
   "cell_type": "markdown",
   "metadata": {},
   "source": [
    "## 3.2 Data Types"
   ]
  },
  {
   "cell_type": "code",
   "execution_count": 6,
   "metadata": {},
   "outputs": [
    {
     "name": "stdout",
     "output_type": "stream",
     "text": [
      "<class 'pandas.core.frame.DataFrame'>\n",
      "RangeIndex: 9668 entries, 0 to 9667\n",
      "Data columns (total 12 columns):\n",
      " #   Column        Non-Null Count  Dtype \n",
      "---  ------        --------------  ----- \n",
      " 0   show_id       9668 non-null   object\n",
      " 1   type          9668 non-null   object\n",
      " 2   title         9668 non-null   object\n",
      " 3   director      7585 non-null   object\n",
      " 4   cast          8435 non-null   object\n",
      " 5   country       672 non-null    object\n",
      " 6   date_added    155 non-null    object\n",
      " 7   release_year  9668 non-null   int64 \n",
      " 8   rating        9331 non-null   object\n",
      " 9   duration      9668 non-null   object\n",
      " 10  listed_in     9668 non-null   object\n",
      " 11  description   9668 non-null   object\n",
      "dtypes: int64(1), object(11)\n",
      "memory usage: 906.5+ KB\n"
     ]
    }
   ],
   "source": [
    "amazon_df.info()"
   ]
  },
  {
   "cell_type": "code",
   "execution_count": 7,
   "metadata": {},
   "outputs": [
    {
     "name": "stdout",
     "output_type": "stream",
     "text": [
      "<class 'pandas.core.frame.DataFrame'>\n",
      "RangeIndex: 1450 entries, 0 to 1449\n",
      "Data columns (total 12 columns):\n",
      " #   Column        Non-Null Count  Dtype \n",
      "---  ------        --------------  ----- \n",
      " 0   show_id       1450 non-null   object\n",
      " 1   type          1450 non-null   object\n",
      " 2   title         1450 non-null   object\n",
      " 3   director      977 non-null    object\n",
      " 4   cast          1260 non-null   object\n",
      " 5   country       1231 non-null   object\n",
      " 6   date_added    1447 non-null   object\n",
      " 7   release_year  1450 non-null   int64 \n",
      " 8   rating        1447 non-null   object\n",
      " 9   duration      1450 non-null   object\n",
      " 10  listed_in     1450 non-null   object\n",
      " 11  description   1450 non-null   object\n",
      "dtypes: int64(1), object(11)\n",
      "memory usage: 136.1+ KB\n"
     ]
    }
   ],
   "source": [
    "disney_df.info()"
   ]
  },
  {
   "cell_type": "code",
   "execution_count": 8,
   "metadata": {},
   "outputs": [
    {
     "name": "stdout",
     "output_type": "stream",
     "text": [
      "<class 'pandas.core.frame.DataFrame'>\n",
      "RangeIndex: 8807 entries, 0 to 8806\n",
      "Data columns (total 12 columns):\n",
      " #   Column        Non-Null Count  Dtype \n",
      "---  ------        --------------  ----- \n",
      " 0   show_id       8807 non-null   object\n",
      " 1   type          8807 non-null   object\n",
      " 2   title         8807 non-null   object\n",
      " 3   director      6173 non-null   object\n",
      " 4   cast          7982 non-null   object\n",
      " 5   country       7976 non-null   object\n",
      " 6   date_added    8797 non-null   object\n",
      " 7   release_year  8807 non-null   int64 \n",
      " 8   rating        8803 non-null   object\n",
      " 9   duration      8804 non-null   object\n",
      " 10  listed_in     8807 non-null   object\n",
      " 11  description   8807 non-null   object\n",
      "dtypes: int64(1), object(11)\n",
      "memory usage: 825.8+ KB\n"
     ]
    }
   ],
   "source": [
    "netflix_df.info()"
   ]
  },
  {
   "cell_type": "markdown",
   "metadata": {},
   "source": [
    "## 3.3 Checking missing values"
   ]
  },
  {
   "cell_type": "code",
   "execution_count": 9,
   "metadata": {},
   "outputs": [
    {
     "data": {
      "text/plain": [
       "show_id            0\n",
       "type               0\n",
       "title              0\n",
       "director        2083\n",
       "cast            1233\n",
       "country         8996\n",
       "date_added      9513\n",
       "release_year       0\n",
       "rating           337\n",
       "duration           0\n",
       "listed_in          0\n",
       "description        0\n",
       "dtype: int64"
      ]
     },
     "execution_count": 9,
     "metadata": {},
     "output_type": "execute_result"
    }
   ],
   "source": [
    "amazon_df.isnull().sum()"
   ]
  },
  {
   "cell_type": "code",
   "execution_count": 10,
   "metadata": {},
   "outputs": [
    {
     "data": {
      "text/plain": [
       "show_id           0\n",
       "type              0\n",
       "title             0\n",
       "director        473\n",
       "cast            190\n",
       "country         219\n",
       "date_added        3\n",
       "release_year      0\n",
       "rating            3\n",
       "duration          0\n",
       "listed_in         0\n",
       "description       0\n",
       "dtype: int64"
      ]
     },
     "execution_count": 10,
     "metadata": {},
     "output_type": "execute_result"
    }
   ],
   "source": [
    "disney_df.isnull().sum()"
   ]
  },
  {
   "cell_type": "code",
   "execution_count": 11,
   "metadata": {},
   "outputs": [
    {
     "data": {
      "text/plain": [
       "show_id            0\n",
       "type               0\n",
       "title              0\n",
       "director        2634\n",
       "cast             825\n",
       "country          831\n",
       "date_added        10\n",
       "release_year       0\n",
       "rating             4\n",
       "duration           3\n",
       "listed_in          0\n",
       "description        0\n",
       "dtype: int64"
      ]
     },
     "execution_count": 11,
     "metadata": {},
     "output_type": "execute_result"
    }
   ],
   "source": [
    "netflix_df.isnull().sum()"
   ]
  },
  {
   "cell_type": "markdown",
   "metadata": {},
   "source": [
    "## 3.4 Checking duplicate values"
   ]
  },
  {
   "cell_type": "code",
   "execution_count": 12,
   "metadata": {},
   "outputs": [
    {
     "data": {
      "text/plain": [
       "0"
      ]
     },
     "execution_count": 12,
     "metadata": {},
     "output_type": "execute_result"
    }
   ],
   "source": [
    "amazon_df.duplicated().sum()"
   ]
  },
  {
   "cell_type": "code",
   "execution_count": 13,
   "metadata": {},
   "outputs": [
    {
     "data": {
      "text/plain": [
       "0"
      ]
     },
     "execution_count": 13,
     "metadata": {},
     "output_type": "execute_result"
    }
   ],
   "source": [
    "disney_df.duplicated().sum()"
   ]
  },
  {
   "cell_type": "code",
   "execution_count": 14,
   "metadata": {},
   "outputs": [
    {
     "data": {
      "text/plain": [
       "0"
      ]
     },
     "execution_count": 14,
     "metadata": {},
     "output_type": "execute_result"
    }
   ],
   "source": [
    "netflix_df.duplicated().sum()"
   ]
  },
  {
   "cell_type": "markdown",
   "metadata": {},
   "source": [
    "## 3.4 Describe"
   ]
  },
  {
   "cell_type": "code",
   "execution_count": 15,
   "metadata": {},
   "outputs": [
    {
     "data": {
      "text/html": [
       "<div>\n",
       "<style scoped>\n",
       "    .dataframe tbody tr th:only-of-type {\n",
       "        vertical-align: middle;\n",
       "    }\n",
       "\n",
       "    .dataframe tbody tr th {\n",
       "        vertical-align: top;\n",
       "    }\n",
       "\n",
       "    .dataframe thead th {\n",
       "        text-align: right;\n",
       "    }\n",
       "</style>\n",
       "<table border=\"1\" class=\"dataframe\">\n",
       "  <thead>\n",
       "    <tr style=\"text-align: right;\">\n",
       "      <th></th>\n",
       "      <th>release_year</th>\n",
       "    </tr>\n",
       "  </thead>\n",
       "  <tbody>\n",
       "    <tr>\n",
       "      <th>count</th>\n",
       "      <td>9668.00</td>\n",
       "    </tr>\n",
       "    <tr>\n",
       "      <th>mean</th>\n",
       "      <td>2008.34</td>\n",
       "    </tr>\n",
       "    <tr>\n",
       "      <th>std</th>\n",
       "      <td>18.92</td>\n",
       "    </tr>\n",
       "    <tr>\n",
       "      <th>min</th>\n",
       "      <td>1920.00</td>\n",
       "    </tr>\n",
       "    <tr>\n",
       "      <th>25%</th>\n",
       "      <td>2007.00</td>\n",
       "    </tr>\n",
       "    <tr>\n",
       "      <th>50%</th>\n",
       "      <td>2016.00</td>\n",
       "    </tr>\n",
       "    <tr>\n",
       "      <th>75%</th>\n",
       "      <td>2019.00</td>\n",
       "    </tr>\n",
       "    <tr>\n",
       "      <th>max</th>\n",
       "      <td>2021.00</td>\n",
       "    </tr>\n",
       "  </tbody>\n",
       "</table>\n",
       "</div>"
      ],
      "text/plain": [
       "       release_year\n",
       "count       9668.00\n",
       "mean        2008.34\n",
       "std           18.92\n",
       "min         1920.00\n",
       "25%         2007.00\n",
       "50%         2016.00\n",
       "75%         2019.00\n",
       "max         2021.00"
      ]
     },
     "execution_count": 15,
     "metadata": {},
     "output_type": "execute_result"
    }
   ],
   "source": [
    "amazon_df.describe().round(2)"
   ]
  },
  {
   "cell_type": "code",
   "execution_count": 16,
   "metadata": {},
   "outputs": [
    {
     "data": {
      "text/html": [
       "<div>\n",
       "<style scoped>\n",
       "    .dataframe tbody tr th:only-of-type {\n",
       "        vertical-align: middle;\n",
       "    }\n",
       "\n",
       "    .dataframe tbody tr th {\n",
       "        vertical-align: top;\n",
       "    }\n",
       "\n",
       "    .dataframe thead th {\n",
       "        text-align: right;\n",
       "    }\n",
       "</style>\n",
       "<table border=\"1\" class=\"dataframe\">\n",
       "  <thead>\n",
       "    <tr style=\"text-align: right;\">\n",
       "      <th></th>\n",
       "      <th>release_year</th>\n",
       "    </tr>\n",
       "  </thead>\n",
       "  <tbody>\n",
       "    <tr>\n",
       "      <th>count</th>\n",
       "      <td>1450.00</td>\n",
       "    </tr>\n",
       "    <tr>\n",
       "      <th>mean</th>\n",
       "      <td>2003.09</td>\n",
       "    </tr>\n",
       "    <tr>\n",
       "      <th>std</th>\n",
       "      <td>21.86</td>\n",
       "    </tr>\n",
       "    <tr>\n",
       "      <th>min</th>\n",
       "      <td>1928.00</td>\n",
       "    </tr>\n",
       "    <tr>\n",
       "      <th>25%</th>\n",
       "      <td>1999.00</td>\n",
       "    </tr>\n",
       "    <tr>\n",
       "      <th>50%</th>\n",
       "      <td>2011.00</td>\n",
       "    </tr>\n",
       "    <tr>\n",
       "      <th>75%</th>\n",
       "      <td>2018.00</td>\n",
       "    </tr>\n",
       "    <tr>\n",
       "      <th>max</th>\n",
       "      <td>2021.00</td>\n",
       "    </tr>\n",
       "  </tbody>\n",
       "</table>\n",
       "</div>"
      ],
      "text/plain": [
       "       release_year\n",
       "count       1450.00\n",
       "mean        2003.09\n",
       "std           21.86\n",
       "min         1928.00\n",
       "25%         1999.00\n",
       "50%         2011.00\n",
       "75%         2018.00\n",
       "max         2021.00"
      ]
     },
     "execution_count": 16,
     "metadata": {},
     "output_type": "execute_result"
    }
   ],
   "source": [
    "disney_df.describe().round(2)"
   ]
  },
  {
   "cell_type": "code",
   "execution_count": 17,
   "metadata": {},
   "outputs": [
    {
     "data": {
      "text/html": [
       "<div>\n",
       "<style scoped>\n",
       "    .dataframe tbody tr th:only-of-type {\n",
       "        vertical-align: middle;\n",
       "    }\n",
       "\n",
       "    .dataframe tbody tr th {\n",
       "        vertical-align: top;\n",
       "    }\n",
       "\n",
       "    .dataframe thead th {\n",
       "        text-align: right;\n",
       "    }\n",
       "</style>\n",
       "<table border=\"1\" class=\"dataframe\">\n",
       "  <thead>\n",
       "    <tr style=\"text-align: right;\">\n",
       "      <th></th>\n",
       "      <th>release_year</th>\n",
       "    </tr>\n",
       "  </thead>\n",
       "  <tbody>\n",
       "    <tr>\n",
       "      <th>count</th>\n",
       "      <td>8807.00</td>\n",
       "    </tr>\n",
       "    <tr>\n",
       "      <th>mean</th>\n",
       "      <td>2014.18</td>\n",
       "    </tr>\n",
       "    <tr>\n",
       "      <th>std</th>\n",
       "      <td>8.82</td>\n",
       "    </tr>\n",
       "    <tr>\n",
       "      <th>min</th>\n",
       "      <td>1925.00</td>\n",
       "    </tr>\n",
       "    <tr>\n",
       "      <th>25%</th>\n",
       "      <td>2013.00</td>\n",
       "    </tr>\n",
       "    <tr>\n",
       "      <th>50%</th>\n",
       "      <td>2017.00</td>\n",
       "    </tr>\n",
       "    <tr>\n",
       "      <th>75%</th>\n",
       "      <td>2019.00</td>\n",
       "    </tr>\n",
       "    <tr>\n",
       "      <th>max</th>\n",
       "      <td>2021.00</td>\n",
       "    </tr>\n",
       "  </tbody>\n",
       "</table>\n",
       "</div>"
      ],
      "text/plain": [
       "       release_year\n",
       "count       8807.00\n",
       "mean        2014.18\n",
       "std            8.82\n",
       "min         1925.00\n",
       "25%         2013.00\n",
       "50%         2017.00\n",
       "75%         2019.00\n",
       "max         2021.00"
      ]
     },
     "execution_count": 17,
     "metadata": {},
     "output_type": "execute_result"
    }
   ],
   "source": [
    "netflix_df.describe().round(2)"
   ]
  },
  {
   "cell_type": "markdown",
   "metadata": {},
   "source": [
    "# 4. Data Transformation\n",
    "\n",
    "## 4.1 Data Cleaning\n",
    "\n",
    "### 4.1.1 Amazon\n",
    "\n",
    "Country and date_added columns have more than 80% of the missing values and hence dropping them."
   ]
  },
  {
   "cell_type": "code",
   "execution_count": 18,
   "metadata": {},
   "outputs": [],
   "source": [
    "# Dropping columns \n",
    "\n",
    "amazon_df = amazon_df.drop(['country', 'date_added'], axis=1)\n",
    "\n",
    "# Removing rows with null values in 'rating' column\n",
    "\n",
    "amazon_df.dropna(subset=['rating'], inplace=True)\n",
    "\n",
    "# Dropping irrelevant columns for analysis\n",
    "\n",
    "amazon_df = amazon_df.drop(['show_id','director','cast'], axis=1)"
   ]
  },
  {
   "cell_type": "markdown",
   "metadata": {},
   "source": [
    "### 4.1.2 Disney_Plus"
   ]
  },
  {
   "cell_type": "code",
   "execution_count": 19,
   "metadata": {},
   "outputs": [],
   "source": [
    "# Dropping columns \n",
    "\n",
    "disney_df = disney_df.drop(['country', 'date_added'], axis=1)\n",
    "\n",
    "# Removing rows with null values in 'rating' column\n",
    "\n",
    "disney_df.dropna(subset=['rating'], inplace=True)\n",
    "\n",
    "# Dropping irrelevant columns for analysis\n",
    "\n",
    "disney_df = disney_df.drop(['show_id','director','cast'], axis=1)"
   ]
  },
  {
   "cell_type": "markdown",
   "metadata": {},
   "source": [
    "### 4.1.3 Netflix"
   ]
  },
  {
   "cell_type": "code",
   "execution_count": 20,
   "metadata": {},
   "outputs": [],
   "source": [
    "# Dropping columns \n",
    "\n",
    "netflix_df = netflix_df.drop(['country', 'date_added'], axis=1)\n",
    "\n",
    "# Removing rows with null values in 'rating' column\n",
    "\n",
    "netflix_df.dropna(subset=['rating', 'duration'], inplace=True)\n",
    "\n",
    "# Dropping irrelevant columns for analysis\n",
    "\n",
    "netflix_df = netflix_df.drop(['show_id','director','cast'], axis=1)"
   ]
  },
  {
   "cell_type": "markdown",
   "metadata": {},
   "source": [
    "## 4.2 Adding new columns"
   ]
  },
  {
   "cell_type": "code",
   "execution_count": 21,
   "metadata": {},
   "outputs": [],
   "source": [
    "amazon_df['platform'] = 'Amazon Prime'\n",
    "amazon_df['headquarters'] = 'Seattle, Washington'\n",
    "amazon_df['date_founded'] = '02/02/2005'\n",
    "\n",
    "disney_df['platform'] = 'Disney Plus'\n",
    "disney_df['headquarters'] = 'Los Angeles, California'\n",
    "disney_df['date_founded'] = '11/12/2019'\n",
    "\n",
    "netflix_df['platform'] = 'Netflix'\n",
    "netflix_df['headquarters'] = 'Los Gatos, California'\n",
    "netflix_df['date_founded'] = '08/29/1997'"
   ]
  },
  {
   "cell_type": "markdown",
   "metadata": {},
   "source": [
    "## 4.3 Merging the data frames\n",
    "\n",
    "Merging all the three data frames to a single dataframe for analysis."
   ]
  },
  {
   "cell_type": "code",
   "execution_count": 22,
   "metadata": {},
   "outputs": [
    {
     "data": {
      "text/html": [
       "<div>\n",
       "<style scoped>\n",
       "    .dataframe tbody tr th:only-of-type {\n",
       "        vertical-align: middle;\n",
       "    }\n",
       "\n",
       "    .dataframe tbody tr th {\n",
       "        vertical-align: top;\n",
       "    }\n",
       "\n",
       "    .dataframe thead th {\n",
       "        text-align: right;\n",
       "    }\n",
       "</style>\n",
       "<table border=\"1\" class=\"dataframe\">\n",
       "  <thead>\n",
       "    <tr style=\"text-align: right;\">\n",
       "      <th></th>\n",
       "      <th>type</th>\n",
       "      <th>title</th>\n",
       "      <th>release_year</th>\n",
       "      <th>rating</th>\n",
       "      <th>duration</th>\n",
       "      <th>listed_in</th>\n",
       "      <th>description</th>\n",
       "      <th>platform</th>\n",
       "      <th>headquarters</th>\n",
       "      <th>date_founded</th>\n",
       "    </tr>\n",
       "  </thead>\n",
       "  <tbody>\n",
       "    <tr>\n",
       "      <th>0</th>\n",
       "      <td>Movie</td>\n",
       "      <td>Take Care Good Night</td>\n",
       "      <td>2018</td>\n",
       "      <td>13+</td>\n",
       "      <td>110 min</td>\n",
       "      <td>Drama, International</td>\n",
       "      <td>A Metro Family decides to fight a Cyber Crimin...</td>\n",
       "      <td>Amazon Prime</td>\n",
       "      <td>Seattle, Washington</td>\n",
       "      <td>02/02/2005</td>\n",
       "    </tr>\n",
       "    <tr>\n",
       "      <th>1</th>\n",
       "      <td>Movie</td>\n",
       "      <td>Zoombies</td>\n",
       "      <td>2016</td>\n",
       "      <td>13+</td>\n",
       "      <td>87 min</td>\n",
       "      <td>Horror, Science Fiction</td>\n",
       "      <td>When a strange virus quickly spreads through a...</td>\n",
       "      <td>Amazon Prime</td>\n",
       "      <td>Seattle, Washington</td>\n",
       "      <td>02/02/2005</td>\n",
       "    </tr>\n",
       "    <tr>\n",
       "      <th>2</th>\n",
       "      <td>TV Show</td>\n",
       "      <td>Zoo Babies</td>\n",
       "      <td>2008</td>\n",
       "      <td>ALL</td>\n",
       "      <td>1 Season</td>\n",
       "      <td>Kids, Special Interest</td>\n",
       "      <td>A heart warming and inspiring series that welc...</td>\n",
       "      <td>Amazon Prime</td>\n",
       "      <td>Seattle, Washington</td>\n",
       "      <td>02/02/2005</td>\n",
       "    </tr>\n",
       "    <tr>\n",
       "      <th>3</th>\n",
       "      <td>TV Show</td>\n",
       "      <td>Zoë Coombs Marr: Bossy Bottom</td>\n",
       "      <td>2020</td>\n",
       "      <td>18+</td>\n",
       "      <td>1 Season</td>\n",
       "      <td>Comedy, Talk Show and Variety</td>\n",
       "      <td>Zoë Coombs Marr has been on hiatus. Sort of. F...</td>\n",
       "      <td>Amazon Prime</td>\n",
       "      <td>Seattle, Washington</td>\n",
       "      <td>02/02/2005</td>\n",
       "    </tr>\n",
       "    <tr>\n",
       "      <th>4</th>\n",
       "      <td>Movie</td>\n",
       "      <td>Zoe</td>\n",
       "      <td>2018</td>\n",
       "      <td>R</td>\n",
       "      <td>104 min</td>\n",
       "      <td>Science Fiction</td>\n",
       "      <td>ZOE tells a tale of forbidden love between an ...</td>\n",
       "      <td>Amazon Prime</td>\n",
       "      <td>Seattle, Washington</td>\n",
       "      <td>02/02/2005</td>\n",
       "    </tr>\n",
       "  </tbody>\n",
       "</table>\n",
       "</div>"
      ],
      "text/plain": [
       "      type                          title  release_year rating  duration  \\\n",
       "0    Movie           Take Care Good Night          2018    13+   110 min   \n",
       "1    Movie                       Zoombies          2016    13+    87 min   \n",
       "2  TV Show                     Zoo Babies          2008    ALL  1 Season   \n",
       "3  TV Show  Zoë Coombs Marr: Bossy Bottom          2020    18+  1 Season   \n",
       "4    Movie                            Zoe          2018      R   104 min   \n",
       "\n",
       "                       listed_in  \\\n",
       "0           Drama, International   \n",
       "1        Horror, Science Fiction   \n",
       "2         Kids, Special Interest   \n",
       "3  Comedy, Talk Show and Variety   \n",
       "4                Science Fiction   \n",
       "\n",
       "                                         description      platform  \\\n",
       "0  A Metro Family decides to fight a Cyber Crimin...  Amazon Prime   \n",
       "1  When a strange virus quickly spreads through a...  Amazon Prime   \n",
       "2  A heart warming and inspiring series that welc...  Amazon Prime   \n",
       "3  Zoë Coombs Marr has been on hiatus. Sort of. F...  Amazon Prime   \n",
       "4  ZOE tells a tale of forbidden love between an ...  Amazon Prime   \n",
       "\n",
       "          headquarters date_founded  \n",
       "0  Seattle, Washington   02/02/2005  \n",
       "1  Seattle, Washington   02/02/2005  \n",
       "2  Seattle, Washington   02/02/2005  \n",
       "3  Seattle, Washington   02/02/2005  \n",
       "4  Seattle, Washington   02/02/2005  "
      ]
     },
     "execution_count": 22,
     "metadata": {},
     "output_type": "execute_result"
    }
   ],
   "source": [
    "streaming_platforms_df = pd.concat([amazon_df,disney_df,netflix_df], ignore_index=True)\n",
    "\n",
    "streaming_platforms_df.head()"
   ]
  },
  {
   "cell_type": "code",
   "execution_count": 23,
   "metadata": {},
   "outputs": [
    {
     "data": {
      "text/plain": [
       "(19578, 10)"
      ]
     },
     "execution_count": 23,
     "metadata": {},
     "output_type": "execute_result"
    }
   ],
   "source": [
    "streaming_platforms_df.shape"
   ]
  },
  {
   "cell_type": "markdown",
   "metadata": {},
   "source": [
    "## 4.4 Renaming the Column"
   ]
  },
  {
   "cell_type": "code",
   "execution_count": 24,
   "metadata": {},
   "outputs": [],
   "source": [
    "streaming_platforms_df.rename(columns={'listed_in':'genre'}, inplace=True)"
   ]
  },
  {
   "cell_type": "markdown",
   "metadata": {},
   "source": [
    "## 4.5 Formatting the data types\n",
    "\n",
    "Convert the string data type of 'date_founded' to datetime."
   ]
  },
  {
   "cell_type": "code",
   "execution_count": 25,
   "metadata": {},
   "outputs": [],
   "source": [
    "streaming_platforms_df['date_founded'] = pd.to_datetime(streaming_platforms_df['date_founded'])"
   ]
  },
  {
   "cell_type": "markdown",
   "metadata": {},
   "source": [
    "## 4.6 Replacing the column values\n",
    "\n",
    "The dataset contains several redundant rating categories. For example, rating category 16, AGES_16_, 16+ represent the same category 16+. For analysis purpose, we replace the rating category values to a unified value."
   ]
  },
  {
   "cell_type": "code",
   "execution_count": 26,
   "metadata": {},
   "outputs": [
    {
     "data": {
      "text/plain": [
       "rating\n",
       "TV-MA       3284\n",
       "TV-14       2447\n",
       "13+         2117\n",
       "R           1809\n",
       "16+         1547\n",
       "TV-PG       1333\n",
       "ALL         1268\n",
       "18+         1243\n",
       "PG-13        949\n",
       "PG           776\n",
       "TV-G         619\n",
       "TV-Y7        504\n",
       "TV-Y         431\n",
       "G            387\n",
       "7+           385\n",
       "NR           303\n",
       "TV-NR        105\n",
       "UNRATED       33\n",
       "TV-Y7-FV      19\n",
       "NC-17          6\n",
       "AGES_18_       3\n",
       "NOT_RATE       3\n",
       "UR             3\n",
       "AGES_16_       2\n",
       "ALL_AGES       1\n",
       "16             1\n",
       "Name: count, dtype: int64"
      ]
     },
     "execution_count": 26,
     "metadata": {},
     "output_type": "execute_result"
    }
   ],
   "source": [
    "streaming_platforms_df['rating'].value_counts()"
   ]
  },
  {
   "cell_type": "code",
   "execution_count": 27,
   "metadata": {},
   "outputs": [],
   "source": [
    "streaming_platforms_df['rating'].replace(['16','AGES_16_'], '16+', inplace=True)\n",
    "streaming_platforms_df['rating'].replace(['AGES_18_'], '18+', inplace=True)\n",
    "streaming_platforms_df['rating'].replace(['ALL_AGES'], 'ALL', inplace=True)\n",
    "streaming_platforms_df['rating'].replace(['TV-NR','UNRATED','NOT_RATE','UR'], 'NR', inplace=True)"
   ]
  },
  {
   "cell_type": "code",
   "execution_count": 28,
   "metadata": {},
   "outputs": [
    {
     "data": {
      "text/html": [
       "<div>\n",
       "<style scoped>\n",
       "    .dataframe tbody tr th:only-of-type {\n",
       "        vertical-align: middle;\n",
       "    }\n",
       "\n",
       "    .dataframe tbody tr th {\n",
       "        vertical-align: top;\n",
       "    }\n",
       "\n",
       "    .dataframe thead th {\n",
       "        text-align: right;\n",
       "    }\n",
       "</style>\n",
       "<table border=\"1\" class=\"dataframe\">\n",
       "  <thead>\n",
       "    <tr style=\"text-align: right;\">\n",
       "      <th></th>\n",
       "      <th>type</th>\n",
       "      <th>title</th>\n",
       "      <th>release_year</th>\n",
       "      <th>rating</th>\n",
       "      <th>duration</th>\n",
       "      <th>genre</th>\n",
       "      <th>description</th>\n",
       "      <th>platform</th>\n",
       "      <th>headquarters</th>\n",
       "      <th>date_founded</th>\n",
       "    </tr>\n",
       "  </thead>\n",
       "  <tbody>\n",
       "    <tr>\n",
       "      <th>0</th>\n",
       "      <td>Movie</td>\n",
       "      <td>Take Care Good Night</td>\n",
       "      <td>2018</td>\n",
       "      <td>13+</td>\n",
       "      <td>110 min</td>\n",
       "      <td>Drama, International</td>\n",
       "      <td>A Metro Family decides to fight a Cyber Crimin...</td>\n",
       "      <td>Amazon Prime</td>\n",
       "      <td>Seattle, Washington</td>\n",
       "      <td>2005-02-02</td>\n",
       "    </tr>\n",
       "    <tr>\n",
       "      <th>1</th>\n",
       "      <td>Movie</td>\n",
       "      <td>Zoombies</td>\n",
       "      <td>2016</td>\n",
       "      <td>13+</td>\n",
       "      <td>87 min</td>\n",
       "      <td>Horror, Science Fiction</td>\n",
       "      <td>When a strange virus quickly spreads through a...</td>\n",
       "      <td>Amazon Prime</td>\n",
       "      <td>Seattle, Washington</td>\n",
       "      <td>2005-02-02</td>\n",
       "    </tr>\n",
       "    <tr>\n",
       "      <th>2</th>\n",
       "      <td>TV Show</td>\n",
       "      <td>Zoo Babies</td>\n",
       "      <td>2008</td>\n",
       "      <td>ALL</td>\n",
       "      <td>1 Season</td>\n",
       "      <td>Kids, Special Interest</td>\n",
       "      <td>A heart warming and inspiring series that welc...</td>\n",
       "      <td>Amazon Prime</td>\n",
       "      <td>Seattle, Washington</td>\n",
       "      <td>2005-02-02</td>\n",
       "    </tr>\n",
       "    <tr>\n",
       "      <th>3</th>\n",
       "      <td>TV Show</td>\n",
       "      <td>Zoë Coombs Marr: Bossy Bottom</td>\n",
       "      <td>2020</td>\n",
       "      <td>18+</td>\n",
       "      <td>1 Season</td>\n",
       "      <td>Comedy, Talk Show and Variety</td>\n",
       "      <td>Zoë Coombs Marr has been on hiatus. Sort of. F...</td>\n",
       "      <td>Amazon Prime</td>\n",
       "      <td>Seattle, Washington</td>\n",
       "      <td>2005-02-02</td>\n",
       "    </tr>\n",
       "    <tr>\n",
       "      <th>4</th>\n",
       "      <td>Movie</td>\n",
       "      <td>Zoe</td>\n",
       "      <td>2018</td>\n",
       "      <td>R</td>\n",
       "      <td>104 min</td>\n",
       "      <td>Science Fiction</td>\n",
       "      <td>ZOE tells a tale of forbidden love between an ...</td>\n",
       "      <td>Amazon Prime</td>\n",
       "      <td>Seattle, Washington</td>\n",
       "      <td>2005-02-02</td>\n",
       "    </tr>\n",
       "  </tbody>\n",
       "</table>\n",
       "</div>"
      ],
      "text/plain": [
       "      type                          title  release_year rating  duration  \\\n",
       "0    Movie           Take Care Good Night          2018    13+   110 min   \n",
       "1    Movie                       Zoombies          2016    13+    87 min   \n",
       "2  TV Show                     Zoo Babies          2008    ALL  1 Season   \n",
       "3  TV Show  Zoë Coombs Marr: Bossy Bottom          2020    18+  1 Season   \n",
       "4    Movie                            Zoe          2018      R   104 min   \n",
       "\n",
       "                           genre  \\\n",
       "0           Drama, International   \n",
       "1        Horror, Science Fiction   \n",
       "2         Kids, Special Interest   \n",
       "3  Comedy, Talk Show and Variety   \n",
       "4                Science Fiction   \n",
       "\n",
       "                                         description      platform  \\\n",
       "0  A Metro Family decides to fight a Cyber Crimin...  Amazon Prime   \n",
       "1  When a strange virus quickly spreads through a...  Amazon Prime   \n",
       "2  A heart warming and inspiring series that welc...  Amazon Prime   \n",
       "3  Zoë Coombs Marr has been on hiatus. Sort of. F...  Amazon Prime   \n",
       "4  ZOE tells a tale of forbidden love between an ...  Amazon Prime   \n",
       "\n",
       "          headquarters date_founded  \n",
       "0  Seattle, Washington   2005-02-02  \n",
       "1  Seattle, Washington   2005-02-02  \n",
       "2  Seattle, Washington   2005-02-02  \n",
       "3  Seattle, Washington   2005-02-02  \n",
       "4  Seattle, Washington   2005-02-02  "
      ]
     },
     "execution_count": 28,
     "metadata": {},
     "output_type": "execute_result"
    }
   ],
   "source": [
    "streaming_platforms_df.head()"
   ]
  },
  {
   "cell_type": "code",
   "execution_count": 29,
   "metadata": {},
   "outputs": [
    {
     "data": {
      "text/html": [
       "<div>\n",
       "<style scoped>\n",
       "    .dataframe tbody tr th:only-of-type {\n",
       "        vertical-align: middle;\n",
       "    }\n",
       "\n",
       "    .dataframe tbody tr th {\n",
       "        vertical-align: top;\n",
       "    }\n",
       "\n",
       "    .dataframe thead th {\n",
       "        text-align: right;\n",
       "    }\n",
       "</style>\n",
       "<table border=\"1\" class=\"dataframe\">\n",
       "  <thead>\n",
       "    <tr style=\"text-align: right;\">\n",
       "      <th></th>\n",
       "      <th>type</th>\n",
       "      <th>title</th>\n",
       "      <th>release_year</th>\n",
       "      <th>rating</th>\n",
       "      <th>duration</th>\n",
       "      <th>genre</th>\n",
       "      <th>description</th>\n",
       "      <th>platform</th>\n",
       "      <th>headquarters</th>\n",
       "      <th>date_founded</th>\n",
       "    </tr>\n",
       "  </thead>\n",
       "  <tbody>\n",
       "    <tr>\n",
       "      <th>19573</th>\n",
       "      <td>Movie</td>\n",
       "      <td>Zodiac</td>\n",
       "      <td>2007</td>\n",
       "      <td>R</td>\n",
       "      <td>158 min</td>\n",
       "      <td>Cult Movies, Dramas, Thrillers</td>\n",
       "      <td>A political cartoonist, a crime reporter and a...</td>\n",
       "      <td>Netflix</td>\n",
       "      <td>Los Gatos, California</td>\n",
       "      <td>1997-08-29</td>\n",
       "    </tr>\n",
       "    <tr>\n",
       "      <th>19574</th>\n",
       "      <td>TV Show</td>\n",
       "      <td>Zombie Dumb</td>\n",
       "      <td>2018</td>\n",
       "      <td>TV-Y7</td>\n",
       "      <td>2 Seasons</td>\n",
       "      <td>Kids' TV, Korean TV Shows, TV Comedies</td>\n",
       "      <td>While living alone in a spooky town, a young g...</td>\n",
       "      <td>Netflix</td>\n",
       "      <td>Los Gatos, California</td>\n",
       "      <td>1997-08-29</td>\n",
       "    </tr>\n",
       "    <tr>\n",
       "      <th>19575</th>\n",
       "      <td>Movie</td>\n",
       "      <td>Zombieland</td>\n",
       "      <td>2009</td>\n",
       "      <td>R</td>\n",
       "      <td>88 min</td>\n",
       "      <td>Comedies, Horror Movies</td>\n",
       "      <td>Looking to survive in a world taken over by zo...</td>\n",
       "      <td>Netflix</td>\n",
       "      <td>Los Gatos, California</td>\n",
       "      <td>1997-08-29</td>\n",
       "    </tr>\n",
       "    <tr>\n",
       "      <th>19576</th>\n",
       "      <td>Movie</td>\n",
       "      <td>Zoom</td>\n",
       "      <td>2006</td>\n",
       "      <td>PG</td>\n",
       "      <td>88 min</td>\n",
       "      <td>Children &amp; Family Movies, Comedies</td>\n",
       "      <td>Dragged from civilian life, a former superhero...</td>\n",
       "      <td>Netflix</td>\n",
       "      <td>Los Gatos, California</td>\n",
       "      <td>1997-08-29</td>\n",
       "    </tr>\n",
       "    <tr>\n",
       "      <th>19577</th>\n",
       "      <td>Movie</td>\n",
       "      <td>Zubaan</td>\n",
       "      <td>2015</td>\n",
       "      <td>TV-14</td>\n",
       "      <td>111 min</td>\n",
       "      <td>Dramas, International Movies, Music &amp; Musicals</td>\n",
       "      <td>A scrappy but poor boy worms his way into a ty...</td>\n",
       "      <td>Netflix</td>\n",
       "      <td>Los Gatos, California</td>\n",
       "      <td>1997-08-29</td>\n",
       "    </tr>\n",
       "  </tbody>\n",
       "</table>\n",
       "</div>"
      ],
      "text/plain": [
       "          type        title  release_year rating   duration  \\\n",
       "19573    Movie       Zodiac          2007      R    158 min   \n",
       "19574  TV Show  Zombie Dumb          2018  TV-Y7  2 Seasons   \n",
       "19575    Movie   Zombieland          2009      R     88 min   \n",
       "19576    Movie         Zoom          2006     PG     88 min   \n",
       "19577    Movie       Zubaan          2015  TV-14    111 min   \n",
       "\n",
       "                                                genre  \\\n",
       "19573                  Cult Movies, Dramas, Thrillers   \n",
       "19574          Kids' TV, Korean TV Shows, TV Comedies   \n",
       "19575                         Comedies, Horror Movies   \n",
       "19576              Children & Family Movies, Comedies   \n",
       "19577  Dramas, International Movies, Music & Musicals   \n",
       "\n",
       "                                             description platform  \\\n",
       "19573  A political cartoonist, a crime reporter and a...  Netflix   \n",
       "19574  While living alone in a spooky town, a young g...  Netflix   \n",
       "19575  Looking to survive in a world taken over by zo...  Netflix   \n",
       "19576  Dragged from civilian life, a former superhero...  Netflix   \n",
       "19577  A scrappy but poor boy worms his way into a ty...  Netflix   \n",
       "\n",
       "                headquarters date_founded  \n",
       "19573  Los Gatos, California   1997-08-29  \n",
       "19574  Los Gatos, California   1997-08-29  \n",
       "19575  Los Gatos, California   1997-08-29  \n",
       "19576  Los Gatos, California   1997-08-29  \n",
       "19577  Los Gatos, California   1997-08-29  "
      ]
     },
     "execution_count": 29,
     "metadata": {},
     "output_type": "execute_result"
    }
   ],
   "source": [
    "streaming_platforms_df.tail()"
   ]
  },
  {
   "cell_type": "markdown",
   "metadata": {},
   "source": [
    "### 5. Data Loading"
   ]
  },
  {
   "cell_type": "code",
   "execution_count": 36,
   "metadata": {},
   "outputs": [
    {
     "name": "stdout",
     "output_type": "stream",
     "text": [
      "Host:  127.0.0.1\n",
      "User:  root\n",
      "Password:  matrix01M\n",
      "Tables created successfully!\n"
     ]
    }
   ],
   "source": [
    "try:\n",
    "\n",
    "\n",
    "    # Load the configuration file\n",
    "    with open('config.yml', 'r') as file:\n",
    "        config = yaml.safe_load(file)\n",
    "\n",
    "    # Access the database configuration\n",
    "    db_config = config['database_config']\n",
    "    # host = db_config['host']\n",
    "    host = db_config['host']\n",
    "    user = db_config['user']\n",
    "    password = db_config['password']\n",
    "    database = db_config['database']\n",
    "\n",
    "    print('Host: ',host)\n",
    "    print('User: ',user)\n",
    "    print('Password: ', password)\n",
    "    \n",
    "    # Connect to MySQL\n",
    "    connection = mysql.connector.connect(\n",
    "        host=host,\n",
    "        user=user,\n",
    "        password=password\n",
    "    )\n",
    "   \n",
    "    cursor = connection.cursor()\n",
    "\n",
    "    # Name of the database you wish to create\n",
    "    database_name = 'Group_5'\n",
    "    \n",
    "    # SQL statement to execute\n",
    "    sql = f\"CREATE DATABASE IF NOT EXISTS {database_name}\"\n",
    "\n",
    "    # Execute the SQL statement\n",
    "    cursor.execute(sql)\n",
    "\n",
    "    # Select Database\n",
    "    cursor.execute(f\"USE {database_name}\")\n",
    "\n",
    "    \n",
    "    # Define SQL statements to create tables\n",
    "    create_movie_table_query = \"\"\"\n",
    "    CREATE TABLE IF NOT EXISTS movie (\n",
    "        id INT AUTO_INCREMENT PRIMARY KEY,\n",
    "        title VARCHAR(255),\n",
    "        release_year INT,\n",
    "        rating VARCHAR(10),\n",
    "        duration VARCHAR(20),\n",
    "        description TEXT,\n",
    "        platform VARCHAR(50),\n",
    "        headquarters VARCHAR(100),\n",
    "        date_founded DATE\n",
    "    )\n",
    "    \"\"\"\n",
    "\n",
    "    create_genre_table_query = \"\"\"\n",
    "    CREATE TABLE IF NOT EXISTS genre (\n",
    "        id INT AUTO_INCREMENT PRIMARY KEY,\n",
    "        genre_name VARCHAR(255) UNIQUE\n",
    "    )\n",
    "    \"\"\"\n",
    "\n",
    "    create_streaming_platform_table_query = \"\"\"\n",
    "    CREATE TABLE IF NOT EXISTS streaming_platform (\n",
    "        id INT AUTO_INCREMENT PRIMARY KEY,\n",
    "        platform_name VARCHAR(50) UNIQUE,\n",
    "        headquarters VARCHAR(100),\n",
    "        date_founded DATE\n",
    "    )\n",
    "    \"\"\"\n",
    "\n",
    "    create_tv_show_table_query = \"\"\"\n",
    "    CREATE TABLE IF NOT EXISTS tv_show (\n",
    "        id INT AUTO_INCREMENT PRIMARY KEY,\n",
    "        title VARCHAR(255),\n",
    "        release_year INT,\n",
    "        rating VARCHAR(10),\n",
    "        duration VARCHAR(20),\n",
    "        description TEXT,\n",
    "        platform VARCHAR(50),\n",
    "        headquarters VARCHAR(100),\n",
    "        date_founded DATE\n",
    "    )\n",
    "    \"\"\"\n",
    "\n",
    "    # Execute the queries\n",
    "    cursor.execute(create_movie_table_query)\n",
    "    cursor.execute(create_genre_table_query)\n",
    "    cursor.execute(create_streaming_platform_table_query)\n",
    "    cursor.execute(create_tv_show_table_query)\n",
    "\n",
    "    # Commit the transaction\n",
    "    connection.commit()\n",
    "\n",
    "    print(\"Tables created successfully!\")\n",
    "\n",
    "except mysql.connector.Error as error:\n",
    "    print(\"Error:\", error)\n"
   ]
  },
  {
   "cell_type": "code",
   "execution_count": null,
   "metadata": {},
   "outputs": [],
   "source": [
    "# # Create rating table\n",
    "# try:\n",
    "#     cursor.execute(\"\"\"\n",
    "#     CREATE TABLE IF NOT EXISTS rating (\n",
    "#         id INT AUTO_INCREMENT PRIMARY KEY,\n",
    "#         rating_value VARCHAR(10) NOT NULL\n",
    "#     )\n",
    "#     \"\"\")\n",
    "    \n",
    "#     print(\"Table 'rating' created successfully!\")\n",
    "\n",
    "# except mysql.connector.Error as error:\n",
    "#     print(\"Error:\", error)"
   ]
  },
  {
   "cell_type": "code",
   "execution_count": null,
   "metadata": {
    "scrolled": true
   },
   "outputs": [],
   "source": [
    "#See the tables for Group_5 schema \n",
    "query = \"SHOW TABLES\"\n",
    "cursor.execute(query)\n",
    "tables = cursor.fetchall()\n",
    "\n",
    "# Print the table names\n",
    "for table in tables:\n",
    "    print(table[0])"
   ]
  },
  {
   "cell_type": "markdown",
   "metadata": {},
   "source": [
    "### Load data into SQL database tables "
   ]
  },
  {
   "cell_type": "code",
   "execution_count": null,
   "metadata": {},
   "outputs": [],
   "source": [
    "# Iterate over each row in the DataFrame\n",
    "for index, row in streaming_platforms_df.iterrows():\n",
    "    # Check if the platform already exists\n",
    "    platform_query = \"SELECT * FROM streaming_platform WHERE platform_name = %s\"\n",
    "    cursor.execute(platform_query, (row['platform'],))\n",
    "    existing_platform = cursor.fetchone()\n",
    "\n",
    "    if not existing_platform:\n",
    "        # Insert into streaming_platform table\n",
    "        streaming_platform_query = \"INSERT INTO streaming_platform (platform_name, headquarters, date_founded) VALUES (%s, %s, %s)\"\n",
    "        streaming_platform_data = (row['platform'], row['headquarters'], str(row['date_founded']))\n",
    "        cursor.execute(streaming_platform_query, streaming_platform_data)\n",
    "\n",
    "    # Insert into movie or TV show table\n",
    "    if row['type'] == 'Movie':\n",
    "        movie_query = \"INSERT INTO movie (title, release_year, rating, duration, description, platform, headquarters, date_founded) VALUES (%s, %s, %s, %s, %s, %s, %s, %s)\"\n",
    "        movie_data = (row['title'], row['release_year'], row['rating'], row['duration'], row['description'], row['platform'], row['headquarters'], str(row['date_founded']))\n",
    "        cursor.execute(movie_query, movie_data)\n",
    "    elif row['type'] == 'TV Show':\n",
    "        tv_show_query = \"INSERT INTO tv_show (title, release_year, rating, duration, description, platform, headquarters, date_founded) VALUES (%s, %s, %s, %s, %s, %s, %s, %s)\"\n",
    "        tv_show_data = (row['title'], row['release_year'], row['rating'], row['duration'], row['description'], row['platform'], row['headquarters'], str(row['date_founded']))\n",
    "        cursor.execute(tv_show_query, tv_show_data)\n",
    "\n",
    "# Commit the changes and close the connection\n",
    "connection.commit()"
   ]
  },
  {
   "cell_type": "code",
   "execution_count": null,
   "metadata": {},
   "outputs": [],
   "source": [
    "# Still need to do genre, which has multiple genres separated by commas in each response. "
   ]
  },
  {
   "cell_type": "code",
   "execution_count": null,
   "metadata": {},
   "outputs": [],
   "source": [
    "query = \"\"\"\n",
    "SELECT release_year, COUNT(*) as count\n",
    "FROM movie\n",
    "GROUP BY release_year\n",
    "ORDER BY release_year;\n",
    "\"\"\"\n",
    "\n",
    "# Use pandas to load the query result into a DataFrame\n",
    "df_content_per_year = pd.read_sql(query, connection)\n",
    "\n",
    "# Plotting the data\n",
    "plt.figure(figsize=(14,6))\n",
    "sns.barplot(x=df_content_per_year['release_year'], y=df_content_per_year['count'], palette=\"viridis\")\n",
    "plt.title('Number of Contents Released Each Year')\n",
    "plt.xlabel('Year')\n",
    "plt.ylabel('Number of Contents')\n",
    "plt.xticks(rotation=90)  # Rotate x-axis labels to vertical\n",
    "plt.tight_layout()\n",
    "plt.show()"
   ]
  },
  {
   "cell_type": "code",
   "execution_count": null,
   "metadata": {},
   "outputs": [],
   "source": [
    "print(disney_df.columns)"
   ]
  },
  {
   "cell_type": "code",
   "execution_count": null,
   "metadata": {},
   "outputs": [],
   "source": [
    "# #Finding number of contents by genre\n",
    "# #Need to separate each strings in genre since they can have multiple genres in a single program\n",
    "# genre_count = disney_df['genre'].str.split(',').explode().str.strip().value_counts()\n",
    "\n",
    "# plt.figure(figsize=(12,8))`\n",
    "# sns.barplot(y=genre_count.index, x=genre_count.values, palette=\"viridis\")\n",
    "# plt.xlabel('Number of Contents')\n",
    "# plt.ylabel('Genre')\n",
    "# plt.title('Content Counts by Genre')\n",
    "# plt.show()"
   ]
  },
  {
   "cell_type": "code",
   "execution_count": null,
   "metadata": {},
   "outputs": [],
   "source": [
    "#Simply looking at percentage of Movie and TV shows \n",
    "content_type_dist = disney_df['type'].value_counts()\n",
    "\n",
    "plt.figure(figsize=(4,4))\n",
    "content_type_dist.plot.pie(autopct='%1.1f%%', startangle=90)\n",
    "plt.title('Distribution of Content Types on Disney+')\n",
    "plt.ylabel('')  #hiding y axis since it is distractive \n",
    "plt.show()"
   ]
  },
  {
   "cell_type": "code",
   "execution_count": null,
   "metadata": {},
   "outputs": [],
   "source": [
    "rating_counts = disney_df['rating'].value_counts()\n",
    "\n",
    "plt.figure(figsize=(5,3))\n",
    "sns.barplot(x=rating_counts.index, y=rating_counts.values, palette='viridis')\n",
    "plt.title('Distribution of Contents by Rating on Disney+')\n",
    "plt.xlabel('Rating')\n",
    "plt.ylabel('Number of Contents')\n",
    "plt.xticks(rotation=45)\n",
    "plt.tight_layout()\n",
    "plt.show()\n"
   ]
  },
  {
   "cell_type": "code",
   "execution_count": null,
   "metadata": {},
   "outputs": [],
   "source": [
    "sns.stripplot(x='release_year' , y='rating', data=disney_df)"
   ]
  },
  {
   "cell_type": "code",
   "execution_count": null,
   "metadata": {},
   "outputs": [],
   "source": [
    "plt.figure(figsize=(10, 6))\n",
    "rating_counts.sort_index().plot(kind='bar', color='skyblue')\n",
    "plt.title('Distribution of Age Ratings')\n",
    "plt.xlabel('Age Rating')\n",
    "plt.ylabel('Number of Movies')\n",
    "plt.show()"
   ]
  },
  {
   "cell_type": "code",
   "execution_count": null,
   "metadata": {},
   "outputs": [],
   "source": [
    "# Distribution of movies by release year\n",
    "plt.figure(figsize=(12, 6))\n",
    "sns.histplot(disney_df['release_year'], bins=30, kde=True, color='skyblue')\n",
    "plt.title('Distribution of Movies by Release Year')\n",
    "plt.xlabel('Release Year')\n",
    "plt.ylabel('Number of Movies')\n",
    "plt.show()"
   ]
  },
  {
   "cell_type": "code",
   "execution_count": null,
   "metadata": {},
   "outputs": [],
   "source": [
    "# Distribution of movies by release year\n",
    "plt.figure(figsize=(12, 6))\n",
    "sns.histplot(netflix_df['release_year'], bins=30, kde=True, color='skyblue')\n",
    "plt.title('Distribution of Movies by Release Year')\n",
    "plt.xlabel('Release Year')\n",
    "plt.ylabel('Number of Movies')\n",
    "plt.show()"
   ]
  },
  {
   "cell_type": "code",
   "execution_count": null,
   "metadata": {},
   "outputs": [],
   "source": [
    "# Distribution of movies by release year\n",
    "plt.figure(figsize=(12, 6))\n",
    "sns.histplot(amazon_df['release_year'], bins=30, kde=True, color='skyblue')\n",
    "plt.title('Distribution of Movies by Release Year')\n",
    "plt.xlabel('Release Year')\n",
    "plt.ylabel('Number of Movies')\n",
    "plt.show()"
   ]
  },
  {
   "cell_type": "code",
   "execution_count": null,
   "metadata": {},
   "outputs": [],
   "source": [
    "query = \"\"\"\n",
    "SELECT *\n",
    "FROM movie;\n",
    "\"\"\"\n",
    "\n",
    "# Use pandas to load the query result into a DataFrame\n",
    "movies_df = pd.read_sql(query, connection)\n",
    "\n",
    "\n",
    "# Distribution of ratings\n",
    "plt.figure(figsize=(10, 6))\n",
    "sns.countplot(x='rating', data=movies_df, order=movies_df['rating'].value_counts().index, palette='viridis')\n",
    "plt.title('Distribution of Ratings')\n",
    "plt.xlabel('Rating')\n",
    "plt.ylabel('Number of Movies')\n",
    "plt.xticks(rotation=45, ha='right')\n",
    "plt.show()"
   ]
  },
  {
   "cell_type": "code",
   "execution_count": null,
   "metadata": {},
   "outputs": [],
   "source": [
    "# **** SAME QUERY JUST DIFFERENT COLORS *****\n",
    "query = \"\"\"\n",
    "SELECT *\n",
    "FROM movie;\n",
    "\"\"\"\n",
    "\n",
    "# Use pandas to load the query result into a DataFrame\n",
    "movies_df = pd.read_sql(query, connection)\n",
    "\n",
    "\n",
    "# Distribution of ratings\n",
    "plt.figure(figsize=(10, 6))\n",
    "sns.countplot(x='rating', data=movies_df, order=movies_df['rating'].value_counts().index, palette='plasma')\n",
    "plt.title('Distribution of Ratings')\n",
    "plt.xlabel('Rating')\n",
    "plt.ylabel('Number of Movies')\n",
    "plt.xticks(rotation=45, ha='right')\n",
    "plt.show()"
   ]
  },
  {
   "cell_type": "code",
   "execution_count": null,
   "metadata": {},
   "outputs": [],
   "source": [
    "query = \"\"\"\n",
    "SELECT *\n",
    "FROM tv_show;\n",
    "\"\"\"\n",
    "\n",
    "# Use pandas to load the query result into a DataFrame\n",
    "shows_df = pd.read_sql(query, connection)\n",
    "\n",
    "# Distribution of ratings\n",
    "plt.figure(figsize=(10, 6))\n",
    "sns.countplot(x='rating', data=shows_df, order=shows_df['rating'].value_counts().index, palette='viridis')\n",
    "plt.title('Distribution of Ratings')\n",
    "plt.xlabel('Rating')\n",
    "plt.ylabel('Number of TV Shows')\n",
    "plt.xticks(rotation=45, ha='right')\n",
    "plt.show()"
   ]
  },
  {
   "cell_type": "code",
   "execution_count": null,
   "metadata": {},
   "outputs": [],
   "source": [
    "# # **** NO GENRE INFO AVAILABLE ****\n",
    "# # Top genres\n",
    "# top_genres = data['listed_in'].value_counts().head(10)\n",
    "\n",
    "# # Plot Top Genres\n",
    "# plt.figure(figsize=(12, 6))\n",
    "# sns.barplot(x=top_genres.values, y=top_genres.index, palette='muted')\n",
    "# plt.title('Top 10 Genres')\n",
    "# plt.xlabel('Number of Movies')\n",
    "# plt.ylabel('Genre')\n",
    "# plt.show()"
   ]
  },
  {
   "cell_type": "code",
   "execution_count": null,
   "metadata": {
    "scrolled": true
   },
   "outputs": [],
   "source": [
    "data_count1=disney_df['rating'].value_counts().reset_index()\n",
    "plt.figure(figsize=(16,6))\n",
    "sns.countplot(x='rating',data=disney_df,hue='type',order=disney_df['rating'].value_counts().index)\n",
    "plt.xticks(rotation=90)\n",
    "plt.title('Distribution of show rating')\n",
    "plt.xlabel('Rating')\n",
    "plt.ylabel('Number of Shows')\n",
    "plt.show()"
   ]
  },
  {
   "cell_type": "code",
   "execution_count": null,
   "metadata": {},
   "outputs": [],
   "source": []
  }
 ],
 "metadata": {
  "kernelspec": {
   "display_name": "Python 3 (ipykernel)",
   "language": "python",
   "name": "python3"
  },
  "language_info": {
   "codemirror_mode": {
    "name": "ipython",
    "version": 3
   },
   "file_extension": ".py",
   "mimetype": "text/x-python",
   "name": "python",
   "nbconvert_exporter": "python",
   "pygments_lexer": "ipython3",
   "version": "3.11.8"
  }
 },
 "nbformat": 4,
 "nbformat_minor": 4
}
