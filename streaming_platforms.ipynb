{
 "cells": [
  {
   "cell_type": "markdown",
   "metadata": {},
   "source": [
    "# 1. Importing the Libraries"
   ]
  },
  {
   "cell_type": "code",
   "execution_count": 1,
   "metadata": {},
   "outputs": [
    {
     "name": "stderr",
     "output_type": "stream",
     "text": [
      "/Users/cfitzpatrick/opt/anaconda3/lib/python3.9/site-packages/pandas/core/computation/expressions.py:21: UserWarning: Pandas requires version '2.8.0' or newer of 'numexpr' (version '2.7.3' currently installed).\n",
      "  from pandas.core.computation.check import NUMEXPR_INSTALLED\n",
      "/Users/cfitzpatrick/opt/anaconda3/lib/python3.9/site-packages/pandas/core/arrays/masked.py:62: UserWarning: Pandas requires version '1.3.4' or newer of 'bottleneck' (version '1.3.2' currently installed).\n",
      "  from pandas.core import (\n"
     ]
    }
   ],
   "source": [
    "# importing packages\n",
    "\n",
    "import numpy as np \n",
    "import pandas as pd \n",
    "import matplotlib.pyplot as plt \n",
    "import warnings \n",
    "warnings.filterwarnings('ignore')"
   ]
  },
  {
   "cell_type": "markdown",
   "metadata": {},
   "source": [
    "# 2. Data Extraction"
   ]
  },
  {
   "cell_type": "code",
   "execution_count": 2,
   "metadata": {},
   "outputs": [],
   "source": [
    "# loading the data \n",
    "\n",
    "amazon_df = pd.read_csv(\"amazon_prime_titles.csv\")\n",
    "disney_df = pd.read_csv(\"disney_plus_titles.csv\")\n",
    "netflix_df = pd.read_csv(\"netflix_titles.csv\")\n"
   ]
  },
  {
   "cell_type": "markdown",
   "metadata": {},
   "source": [
    "# 3. Exploratory Data Analysis\n",
    "\n",
    "## 3.1 Shape"
   ]
  },
  {
   "cell_type": "code",
   "execution_count": 3,
   "metadata": {},
   "outputs": [
    {
     "data": {
      "text/plain": [
       "(9668, 12)"
      ]
     },
     "execution_count": 3,
     "metadata": {},
     "output_type": "execute_result"
    }
   ],
   "source": [
    "amazon_df.shape"
   ]
  },
  {
   "cell_type": "code",
   "execution_count": 4,
   "metadata": {},
   "outputs": [
    {
     "data": {
      "text/plain": [
       "(1450, 12)"
      ]
     },
     "execution_count": 4,
     "metadata": {},
     "output_type": "execute_result"
    }
   ],
   "source": [
    "disney_df.shape"
   ]
  },
  {
   "cell_type": "code",
   "execution_count": 5,
   "metadata": {},
   "outputs": [
    {
     "data": {
      "text/plain": [
       "(8807, 12)"
      ]
     },
     "execution_count": 5,
     "metadata": {},
     "output_type": "execute_result"
    }
   ],
   "source": [
    "netflix_df.shape"
   ]
  },
  {
   "cell_type": "markdown",
   "metadata": {},
   "source": [
    "## 3.2 Data Types"
   ]
  },
  {
   "cell_type": "code",
   "execution_count": 6,
   "metadata": {},
   "outputs": [
    {
     "name": "stdout",
     "output_type": "stream",
     "text": [
      "<class 'pandas.core.frame.DataFrame'>\n",
      "RangeIndex: 9668 entries, 0 to 9667\n",
      "Data columns (total 12 columns):\n",
      " #   Column        Non-Null Count  Dtype \n",
      "---  ------        --------------  ----- \n",
      " 0   show_id       9668 non-null   object\n",
      " 1   type          9668 non-null   object\n",
      " 2   title         9668 non-null   object\n",
      " 3   director      7585 non-null   object\n",
      " 4   cast          8435 non-null   object\n",
      " 5   country       672 non-null    object\n",
      " 6   date_added    155 non-null    object\n",
      " 7   release_year  9668 non-null   int64 \n",
      " 8   rating        9331 non-null   object\n",
      " 9   duration      9668 non-null   object\n",
      " 10  listed_in     9668 non-null   object\n",
      " 11  description   9668 non-null   object\n",
      "dtypes: int64(1), object(11)\n",
      "memory usage: 906.5+ KB\n"
     ]
    }
   ],
   "source": [
    "amazon_df.info()"
   ]
  },
  {
   "cell_type": "code",
   "execution_count": 7,
   "metadata": {},
   "outputs": [
    {
     "name": "stdout",
     "output_type": "stream",
     "text": [
      "<class 'pandas.core.frame.DataFrame'>\n",
      "RangeIndex: 1450 entries, 0 to 1449\n",
      "Data columns (total 12 columns):\n",
      " #   Column        Non-Null Count  Dtype \n",
      "---  ------        --------------  ----- \n",
      " 0   show_id       1450 non-null   object\n",
      " 1   type          1450 non-null   object\n",
      " 2   title         1450 non-null   object\n",
      " 3   director      977 non-null    object\n",
      " 4   cast          1260 non-null   object\n",
      " 5   country       1231 non-null   object\n",
      " 6   date_added    1447 non-null   object\n",
      " 7   release_year  1450 non-null   int64 \n",
      " 8   rating        1447 non-null   object\n",
      " 9   duration      1450 non-null   object\n",
      " 10  listed_in     1450 non-null   object\n",
      " 11  description   1450 non-null   object\n",
      "dtypes: int64(1), object(11)\n",
      "memory usage: 136.1+ KB\n"
     ]
    }
   ],
   "source": [
    "disney_df.info()"
   ]
  },
  {
   "cell_type": "code",
   "execution_count": 8,
   "metadata": {},
   "outputs": [
    {
     "name": "stdout",
     "output_type": "stream",
     "text": [
      "<class 'pandas.core.frame.DataFrame'>\n",
      "RangeIndex: 8807 entries, 0 to 8806\n",
      "Data columns (total 12 columns):\n",
      " #   Column        Non-Null Count  Dtype \n",
      "---  ------        --------------  ----- \n",
      " 0   show_id       8807 non-null   object\n",
      " 1   type          8807 non-null   object\n",
      " 2   title         8807 non-null   object\n",
      " 3   director      6173 non-null   object\n",
      " 4   cast          7982 non-null   object\n",
      " 5   country       7976 non-null   object\n",
      " 6   date_added    8797 non-null   object\n",
      " 7   release_year  8807 non-null   int64 \n",
      " 8   rating        8803 non-null   object\n",
      " 9   duration      8804 non-null   object\n",
      " 10  listed_in     8807 non-null   object\n",
      " 11  description   8807 non-null   object\n",
      "dtypes: int64(1), object(11)\n",
      "memory usage: 825.8+ KB\n"
     ]
    }
   ],
   "source": [
    "netflix_df.info()"
   ]
  },
  {
   "cell_type": "markdown",
   "metadata": {},
   "source": [
    "## 3.3 Checking missing values"
   ]
  },
  {
   "cell_type": "code",
   "execution_count": 9,
   "metadata": {},
   "outputs": [
    {
     "data": {
      "text/plain": [
       "show_id            0\n",
       "type               0\n",
       "title              0\n",
       "director        2083\n",
       "cast            1233\n",
       "country         8996\n",
       "date_added      9513\n",
       "release_year       0\n",
       "rating           337\n",
       "duration           0\n",
       "listed_in          0\n",
       "description        0\n",
       "dtype: int64"
      ]
     },
     "execution_count": 9,
     "metadata": {},
     "output_type": "execute_result"
    }
   ],
   "source": [
    "amazon_df.isnull().sum()"
   ]
  },
  {
   "cell_type": "code",
   "execution_count": 10,
   "metadata": {},
   "outputs": [
    {
     "data": {
      "text/plain": [
       "show_id           0\n",
       "type              0\n",
       "title             0\n",
       "director        473\n",
       "cast            190\n",
       "country         219\n",
       "date_added        3\n",
       "release_year      0\n",
       "rating            3\n",
       "duration          0\n",
       "listed_in         0\n",
       "description       0\n",
       "dtype: int64"
      ]
     },
     "execution_count": 10,
     "metadata": {},
     "output_type": "execute_result"
    }
   ],
   "source": [
    "disney_df.isnull().sum()"
   ]
  },
  {
   "cell_type": "code",
   "execution_count": 11,
   "metadata": {},
   "outputs": [
    {
     "data": {
      "text/plain": [
       "show_id            0\n",
       "type               0\n",
       "title              0\n",
       "director        2634\n",
       "cast             825\n",
       "country          831\n",
       "date_added        10\n",
       "release_year       0\n",
       "rating             4\n",
       "duration           3\n",
       "listed_in          0\n",
       "description        0\n",
       "dtype: int64"
      ]
     },
     "execution_count": 11,
     "metadata": {},
     "output_type": "execute_result"
    }
   ],
   "source": [
    "netflix_df.isnull().sum()"
   ]
  },
  {
   "cell_type": "markdown",
   "metadata": {},
   "source": [
    "## 3.4 Checking duplicate values"
   ]
  },
  {
   "cell_type": "code",
   "execution_count": 12,
   "metadata": {},
   "outputs": [
    {
     "data": {
      "text/plain": [
       "0"
      ]
     },
     "execution_count": 12,
     "metadata": {},
     "output_type": "execute_result"
    }
   ],
   "source": [
    "amazon_df.duplicated().sum()"
   ]
  },
  {
   "cell_type": "code",
   "execution_count": 13,
   "metadata": {},
   "outputs": [
    {
     "data": {
      "text/plain": [
       "0"
      ]
     },
     "execution_count": 13,
     "metadata": {},
     "output_type": "execute_result"
    }
   ],
   "source": [
    "disney_df.duplicated().sum()"
   ]
  },
  {
   "cell_type": "code",
   "execution_count": 14,
   "metadata": {},
   "outputs": [
    {
     "data": {
      "text/plain": [
       "0"
      ]
     },
     "execution_count": 14,
     "metadata": {},
     "output_type": "execute_result"
    }
   ],
   "source": [
    "netflix_df.duplicated().sum()"
   ]
  },
  {
   "cell_type": "markdown",
   "metadata": {},
   "source": [
    "# 4. Data Transformation\n",
    "\n",
    "## 4.1 Data Cleaning\n",
    "\n",
    "### 4.1.1 Amazon\n",
    "\n",
    "Country and date_added columns have more than 80% of the missing values and hence dropping them."
   ]
  },
  {
   "cell_type": "code",
   "execution_count": 15,
   "metadata": {},
   "outputs": [],
   "source": [
    "# Dropping columns \n",
    "\n",
    "amazon_df = amazon_df.drop(['country', 'date_added'], axis=1)\n",
    "\n",
    "# Removing rows with null values in 'rating' column\n",
    "\n",
    "amazon_df.dropna(subset=['rating'], inplace=True)\n",
    "\n",
    "# Dropping irrelevant columns for analysis\n",
    "\n",
    "amazon_df = amazon_df.drop(['show_id','director','cast'], axis=1)"
   ]
  },
  {
   "cell_type": "markdown",
   "metadata": {},
   "source": [
    "### 4.1.2 Disney_Plus"
   ]
  },
  {
   "cell_type": "code",
   "execution_count": 16,
   "metadata": {},
   "outputs": [],
   "source": [
    "# Dropping columns \n",
    "\n",
    "disney_df = disney_df.drop(['country', 'date_added'], axis=1)\n",
    "\n",
    "# Removing rows with null values in 'rating' column\n",
    "\n",
    "disney_df.dropna(subset=['rating'], inplace=True)\n",
    "\n",
    "# Dropping irrelevant columns for analysis\n",
    "\n",
    "disney_df = disney_df.drop(['show_id','director','cast'], axis=1)"
   ]
  },
  {
   "cell_type": "markdown",
   "metadata": {},
   "source": [
    "### 4.1.3 Netflix"
   ]
  },
  {
   "cell_type": "code",
   "execution_count": 17,
   "metadata": {},
   "outputs": [],
   "source": [
    "# Dropping columns \n",
    "\n",
    "netflix_df = netflix_df.drop(['country', 'date_added'], axis=1)\n",
    "\n",
    "# Removing rows with null values in 'rating' column\n",
    "\n",
    "netflix_df.dropna(subset=['rating', 'duration'], inplace=True)\n",
    "\n",
    "# Dropping irrelevant columns for analysis\n",
    "\n",
    "netflix_df = netflix_df.drop(['show_id','director','cast'], axis=1)"
   ]
  },
  {
   "cell_type": "markdown",
   "metadata": {},
   "source": [
    "## 4.2 Adding new columns"
   ]
  },
  {
   "cell_type": "code",
   "execution_count": 18,
   "metadata": {},
   "outputs": [],
   "source": [
    "amazon_df['platform'] = 'Amazon Prime'\n",
    "amazon_df['headquarters'] = 'Seattle, Washington'\n",
    "amazon_df['date_founded'] = '02/02/2005'\n",
    "\n",
    "disney_df['platform'] = 'Disney Plus'\n",
    "disney_df['headquarters'] = 'Los Angeles, California'\n",
    "disney_df['date_founded'] = '11/12/2019'\n",
    "\n",
    "netflix_df['platform'] = 'Netflix'\n",
    "netflix_df['headquarters'] = 'Los Gatos, California'\n",
    "netflix_df['date_founded'] = '08/29/1997'"
   ]
  },
  {
   "cell_type": "markdown",
   "metadata": {},
   "source": [
    "## 4.3 Merging the data frames\n",
    "\n",
    "Merging all the three data frames to a single dataframe for analysis."
   ]
  },
  {
   "cell_type": "code",
   "execution_count": 19,
   "metadata": {},
   "outputs": [
    {
     "data": {
      "text/html": [
       "<div>\n",
       "<style scoped>\n",
       "    .dataframe tbody tr th:only-of-type {\n",
       "        vertical-align: middle;\n",
       "    }\n",
       "\n",
       "    .dataframe tbody tr th {\n",
       "        vertical-align: top;\n",
       "    }\n",
       "\n",
       "    .dataframe thead th {\n",
       "        text-align: right;\n",
       "    }\n",
       "</style>\n",
       "<table border=\"1\" class=\"dataframe\">\n",
       "  <thead>\n",
       "    <tr style=\"text-align: right;\">\n",
       "      <th></th>\n",
       "      <th>type</th>\n",
       "      <th>title</th>\n",
       "      <th>release_year</th>\n",
       "      <th>rating</th>\n",
       "      <th>duration</th>\n",
       "      <th>listed_in</th>\n",
       "      <th>description</th>\n",
       "      <th>platform</th>\n",
       "      <th>headquarters</th>\n",
       "      <th>date_founded</th>\n",
       "    </tr>\n",
       "  </thead>\n",
       "  <tbody>\n",
       "    <tr>\n",
       "      <th>0</th>\n",
       "      <td>Movie</td>\n",
       "      <td>Take Care Good Night</td>\n",
       "      <td>2018</td>\n",
       "      <td>13+</td>\n",
       "      <td>110 min</td>\n",
       "      <td>Drama, International</td>\n",
       "      <td>A Metro Family decides to fight a Cyber Crimin...</td>\n",
       "      <td>Amazon Prime</td>\n",
       "      <td>Seattle, Washington</td>\n",
       "      <td>02/02/2005</td>\n",
       "    </tr>\n",
       "    <tr>\n",
       "      <th>1</th>\n",
       "      <td>Movie</td>\n",
       "      <td>Zoombies</td>\n",
       "      <td>2016</td>\n",
       "      <td>13+</td>\n",
       "      <td>87 min</td>\n",
       "      <td>Horror, Science Fiction</td>\n",
       "      <td>When a strange virus quickly spreads through a...</td>\n",
       "      <td>Amazon Prime</td>\n",
       "      <td>Seattle, Washington</td>\n",
       "      <td>02/02/2005</td>\n",
       "    </tr>\n",
       "    <tr>\n",
       "      <th>2</th>\n",
       "      <td>TV Show</td>\n",
       "      <td>Zoo Babies</td>\n",
       "      <td>2008</td>\n",
       "      <td>ALL</td>\n",
       "      <td>1 Season</td>\n",
       "      <td>Kids, Special Interest</td>\n",
       "      <td>A heart warming and inspiring series that welc...</td>\n",
       "      <td>Amazon Prime</td>\n",
       "      <td>Seattle, Washington</td>\n",
       "      <td>02/02/2005</td>\n",
       "    </tr>\n",
       "    <tr>\n",
       "      <th>3</th>\n",
       "      <td>TV Show</td>\n",
       "      <td>Zoë Coombs Marr: Bossy Bottom</td>\n",
       "      <td>2020</td>\n",
       "      <td>18+</td>\n",
       "      <td>1 Season</td>\n",
       "      <td>Comedy, Talk Show and Variety</td>\n",
       "      <td>Zoë Coombs Marr has been on hiatus. Sort of. F...</td>\n",
       "      <td>Amazon Prime</td>\n",
       "      <td>Seattle, Washington</td>\n",
       "      <td>02/02/2005</td>\n",
       "    </tr>\n",
       "    <tr>\n",
       "      <th>4</th>\n",
       "      <td>Movie</td>\n",
       "      <td>Zoe</td>\n",
       "      <td>2018</td>\n",
       "      <td>R</td>\n",
       "      <td>104 min</td>\n",
       "      <td>Science Fiction</td>\n",
       "      <td>ZOE tells a tale of forbidden love between an ...</td>\n",
       "      <td>Amazon Prime</td>\n",
       "      <td>Seattle, Washington</td>\n",
       "      <td>02/02/2005</td>\n",
       "    </tr>\n",
       "  </tbody>\n",
       "</table>\n",
       "</div>"
      ],
      "text/plain": [
       "      type                          title  release_year rating  duration  \\\n",
       "0    Movie           Take Care Good Night          2018    13+   110 min   \n",
       "1    Movie                       Zoombies          2016    13+    87 min   \n",
       "2  TV Show                     Zoo Babies          2008    ALL  1 Season   \n",
       "3  TV Show  Zoë Coombs Marr: Bossy Bottom          2020    18+  1 Season   \n",
       "4    Movie                            Zoe          2018      R   104 min   \n",
       "\n",
       "                       listed_in  \\\n",
       "0           Drama, International   \n",
       "1        Horror, Science Fiction   \n",
       "2         Kids, Special Interest   \n",
       "3  Comedy, Talk Show and Variety   \n",
       "4                Science Fiction   \n",
       "\n",
       "                                         description      platform  \\\n",
       "0  A Metro Family decides to fight a Cyber Crimin...  Amazon Prime   \n",
       "1  When a strange virus quickly spreads through a...  Amazon Prime   \n",
       "2  A heart warming and inspiring series that welc...  Amazon Prime   \n",
       "3  Zoë Coombs Marr has been on hiatus. Sort of. F...  Amazon Prime   \n",
       "4  ZOE tells a tale of forbidden love between an ...  Amazon Prime   \n",
       "\n",
       "          headquarters date_founded  \n",
       "0  Seattle, Washington   02/02/2005  \n",
       "1  Seattle, Washington   02/02/2005  \n",
       "2  Seattle, Washington   02/02/2005  \n",
       "3  Seattle, Washington   02/02/2005  \n",
       "4  Seattle, Washington   02/02/2005  "
      ]
     },
     "execution_count": 19,
     "metadata": {},
     "output_type": "execute_result"
    }
   ],
   "source": [
    "streaming_platforms_df = pd.concat([amazon_df,disney_df,netflix_df], ignore_index=True)\n",
    "\n",
    "streaming_platforms_df.head()"
   ]
  },
  {
   "cell_type": "code",
   "execution_count": null,
   "metadata": {},
   "outputs": [],
   "source": []
  },
  {
   "cell_type": "code",
   "execution_count": 20,
   "metadata": {},
   "outputs": [
    {
     "data": {
      "text/plain": [
       "(19578, 10)"
      ]
     },
     "execution_count": 20,
     "metadata": {},
     "output_type": "execute_result"
    }
   ],
   "source": [
    "streaming_platforms_df.shape"
   ]
  },
  {
   "cell_type": "markdown",
   "metadata": {},
   "source": [
    "## 4.4 Renaming the Column"
   ]
  },
  {
   "cell_type": "code",
   "execution_count": 21,
   "metadata": {},
   "outputs": [],
   "source": [
    "streaming_platforms_df.rename(columns={'listed_in':'genre'}, inplace=True)"
   ]
  },
  {
   "cell_type": "markdown",
   "metadata": {},
   "source": [
    "## 4.5 Formatting the data types\n",
    "\n",
    "Convert the string data type of 'date_founded' to datetime."
   ]
  },
  {
   "cell_type": "code",
   "execution_count": 22,
   "metadata": {},
   "outputs": [],
   "source": [
    "streaming_platforms_df['date_founded'] = pd.to_datetime(streaming_platforms_df['date_founded'])"
   ]
  },
  {
   "cell_type": "markdown",
   "metadata": {},
   "source": [
    "## 4.6 Replacing the column values\n",
    "\n",
    "The dataset contains several redundant rating categories. For example, rating category 16, AGES_16_, 16+ represent the same category 16+. For analysis purpose, we replace the rating category values to a unified value."
   ]
  },
  {
   "cell_type": "code",
   "execution_count": 23,
   "metadata": {},
   "outputs": [
    {
     "data": {
      "text/plain": [
       "rating\n",
       "TV-MA       3284\n",
       "TV-14       2447\n",
       "13+         2117\n",
       "R           1809\n",
       "16+         1547\n",
       "TV-PG       1333\n",
       "ALL         1268\n",
       "18+         1243\n",
       "PG-13        949\n",
       "PG           776\n",
       "TV-G         619\n",
       "TV-Y7        504\n",
       "TV-Y         431\n",
       "G            387\n",
       "7+           385\n",
       "NR           303\n",
       "TV-NR        105\n",
       "UNRATED       33\n",
       "TV-Y7-FV      19\n",
       "NC-17          6\n",
       "AGES_18_       3\n",
       "NOT_RATE       3\n",
       "UR             3\n",
       "AGES_16_       2\n",
       "ALL_AGES       1\n",
       "16             1\n",
       "Name: count, dtype: int64"
      ]
     },
     "execution_count": 23,
     "metadata": {},
     "output_type": "execute_result"
    }
   ],
   "source": [
    "streaming_platforms_df['rating'].value_counts()"
   ]
  },
  {
   "cell_type": "code",
   "execution_count": 51,
   "metadata": {},
   "outputs": [],
   "source": [
    "streaming_platforms_df['rating'].replace(['16','AGES_16_'], '16+', inplace=True)\n",
    "streaming_platforms_df['rating'].replace(['AGES_18_'], '18+', inplace=True)\n",
    "streaming_platforms_df['rating'].replace(['ALL_AGES'], 'ALL', inplace=True)\n",
    "streaming_platforms_df['rating'].replace(['TV-NR','UNRATED','NOT_RATE','UR'], 'NR', inplace=True)"
   ]
  },
  {
   "cell_type": "code",
   "execution_count": 135,
   "metadata": {},
   "outputs": [
    {
     "data": {
      "text/html": [
       "<div>\n",
       "<style scoped>\n",
       "    .dataframe tbody tr th:only-of-type {\n",
       "        vertical-align: middle;\n",
       "    }\n",
       "\n",
       "    .dataframe tbody tr th {\n",
       "        vertical-align: top;\n",
       "    }\n",
       "\n",
       "    .dataframe thead th {\n",
       "        text-align: right;\n",
       "    }\n",
       "</style>\n",
       "<table border=\"1\" class=\"dataframe\">\n",
       "  <thead>\n",
       "    <tr style=\"text-align: right;\">\n",
       "      <th></th>\n",
       "      <th>type</th>\n",
       "      <th>title</th>\n",
       "      <th>release_year</th>\n",
       "      <th>rating</th>\n",
       "      <th>duration</th>\n",
       "      <th>genre</th>\n",
       "      <th>description</th>\n",
       "      <th>platform</th>\n",
       "      <th>headquarters</th>\n",
       "      <th>date_founded</th>\n",
       "      <th>genre_first_words</th>\n",
       "    </tr>\n",
       "  </thead>\n",
       "  <tbody>\n",
       "    <tr>\n",
       "      <th>0</th>\n",
       "      <td>Movie</td>\n",
       "      <td>Take Care Good Night</td>\n",
       "      <td>2018</td>\n",
       "      <td>13+</td>\n",
       "      <td>110 min</td>\n",
       "      <td>Drama</td>\n",
       "      <td>A Metro Family decides to fight a Cyber Crimin...</td>\n",
       "      <td>Amazon Prime</td>\n",
       "      <td>Seattle, Washington</td>\n",
       "      <td>2005-02-02</td>\n",
       "      <td>[Drama]</td>\n",
       "    </tr>\n",
       "    <tr>\n",
       "      <th>1</th>\n",
       "      <td>Movie</td>\n",
       "      <td>Zoombies</td>\n",
       "      <td>2016</td>\n",
       "      <td>13+</td>\n",
       "      <td>87 min</td>\n",
       "      <td>Horror</td>\n",
       "      <td>When a strange virus quickly spreads through a...</td>\n",
       "      <td>Amazon Prime</td>\n",
       "      <td>Seattle, Washington</td>\n",
       "      <td>2005-02-02</td>\n",
       "      <td>[Horror]</td>\n",
       "    </tr>\n",
       "    <tr>\n",
       "      <th>2</th>\n",
       "      <td>TV Show</td>\n",
       "      <td>Zoo Babies</td>\n",
       "      <td>2008</td>\n",
       "      <td>ALL</td>\n",
       "      <td>1 Season</td>\n",
       "      <td>Kids</td>\n",
       "      <td>A heart warming and inspiring series that welc...</td>\n",
       "      <td>Amazon Prime</td>\n",
       "      <td>Seattle, Washington</td>\n",
       "      <td>2005-02-02</td>\n",
       "      <td>[Kids]</td>\n",
       "    </tr>\n",
       "    <tr>\n",
       "      <th>3</th>\n",
       "      <td>TV Show</td>\n",
       "      <td>Zoë Coombs Marr: Bossy Bottom</td>\n",
       "      <td>2020</td>\n",
       "      <td>18+</td>\n",
       "      <td>1 Season</td>\n",
       "      <td>Comedy</td>\n",
       "      <td>Zoë Coombs Marr has been on hiatus. Sort of. F...</td>\n",
       "      <td>Amazon Prime</td>\n",
       "      <td>Seattle, Washington</td>\n",
       "      <td>2005-02-02</td>\n",
       "      <td>[Comedy]</td>\n",
       "    </tr>\n",
       "    <tr>\n",
       "      <th>4</th>\n",
       "      <td>Movie</td>\n",
       "      <td>Zoe</td>\n",
       "      <td>2018</td>\n",
       "      <td>R</td>\n",
       "      <td>104 min</td>\n",
       "      <td>Science Fiction</td>\n",
       "      <td>ZOE tells a tale of forbidden love between an ...</td>\n",
       "      <td>Amazon Prime</td>\n",
       "      <td>Seattle, Washington</td>\n",
       "      <td>2005-02-02</td>\n",
       "      <td>[Science]</td>\n",
       "    </tr>\n",
       "  </tbody>\n",
       "</table>\n",
       "</div>"
      ],
      "text/plain": [
       "      type                          title  release_year rating  duration  \\\n",
       "0    Movie           Take Care Good Night          2018    13+   110 min   \n",
       "1    Movie                       Zoombies          2016    13+    87 min   \n",
       "2  TV Show                     Zoo Babies          2008    ALL  1 Season   \n",
       "3  TV Show  Zoë Coombs Marr: Bossy Bottom          2020    18+  1 Season   \n",
       "4    Movie                            Zoe          2018      R   104 min   \n",
       "\n",
       "             genre                                        description  \\\n",
       "0            Drama  A Metro Family decides to fight a Cyber Crimin...   \n",
       "1           Horror  When a strange virus quickly spreads through a...   \n",
       "2             Kids  A heart warming and inspiring series that welc...   \n",
       "3           Comedy  Zoë Coombs Marr has been on hiatus. Sort of. F...   \n",
       "4  Science Fiction  ZOE tells a tale of forbidden love between an ...   \n",
       "\n",
       "       platform         headquarters date_founded genre_first_words  \n",
       "0  Amazon Prime  Seattle, Washington   2005-02-02           [Drama]  \n",
       "1  Amazon Prime  Seattle, Washington   2005-02-02          [Horror]  \n",
       "2  Amazon Prime  Seattle, Washington   2005-02-02            [Kids]  \n",
       "3  Amazon Prime  Seattle, Washington   2005-02-02          [Comedy]  \n",
       "4  Amazon Prime  Seattle, Washington   2005-02-02         [Science]  "
      ]
     },
     "execution_count": 135,
     "metadata": {},
     "output_type": "execute_result"
    }
   ],
   "source": [
    "streaming_platforms_df.head()"
   ]
  },
  {
   "cell_type": "markdown",
   "metadata": {},
   "source": [
    "### for genre, simplify"
   ]
  },
  {
   "cell_type": "code",
   "execution_count": 134,
   "metadata": {},
   "outputs": [],
   "source": [
    "# Update the main DataFrame to include the first word of each genre\n",
    "genre_first_words = []\n",
    "for index, row in streaming_platforms_df.iterrows():\n",
    "    row_genre_first_words = []\n",
    "    for genre in row['genre'].split(', '):\n",
    "        first_word = genre.split()[0]  # Extract the first word\n",
    "        row_genre_first_words.append(first_word)\n",
    "    genre_first_words.append(row_genre_first_words)\n",
    "\n",
    "# Add a new column 'genre_first_words' to the DataFrame\n",
    "streaming_platforms_df['genre_first_words'] = genre_first_words\n",
    "\n",
    "# Commit the changes\n",
    "connection.commit()"
   ]
  },
  {
   "cell_type": "code",
   "execution_count": 137,
   "metadata": {},
   "outputs": [
    {
     "name": "stdout",
     "output_type": "stream",
     "text": [
      "Drama: 2179\n",
      "Horror: 519\n",
      "Kids: 370\n",
      "Comedy: 1626\n",
      "Science Fiction: 86\n",
      "Action: 1615\n",
      "Arts: 405\n",
      "TV Shows: 278\n",
      "Documentary: 898\n",
      "Animation: 807\n",
      "Anime: 44\n",
      "Music Videos and Concerts: 102\n",
      "Fitness: 83\n",
      "Faith and Spirituality: 13\n",
      "Special Interest: 181\n",
      "Adventure: 68\n",
      "Fantasy: 23\n",
      "Suspense: 189\n",
      "Unscripted: 29\n",
      "Western: 101\n",
      "Arthouse: 132\n",
      "Sports: 20\n",
      "Military and War: 5\n",
      "International: 47\n",
      "Romance: 125\n",
      "Young Adult Audience: 3\n",
      "Talk Show and Variety: 3\n",
      "LGBTQ: 12\n",
      "Historical: 5\n",
      "Musical: 2\n",
      "Biographical: 34\n",
      "Action-Adventure: 452\n",
      "Docuseries: 253\n",
      "Animals & Nature: 173\n",
      "Lifestyle: 1\n",
      "Movies: 56\n",
      "Coming of Age: 56\n",
      "Concert Film: 7\n",
      "Anthology: 11\n",
      "Reality: 4\n",
      "Family: 20\n",
      "Crime: 3\n",
      "Talk Show: 1\n",
      "Series: 3\n",
      "Buddy: 20\n",
      "Game Show / Competition: 1\n",
      "Variety: 1\n",
      "Dance: 1\n",
      "Music: 1\n",
      "Documentaries: 829\n",
      "International TV Shows: 774\n",
      "Crime TV Shows: 399\n",
      "TV Dramas: 67\n",
      "Children & Family Movies: 605\n",
      "Dramas: 1599\n",
      "British TV Shows: 253\n",
      "Comedies: 1210\n",
      "TV Comedies: 120\n",
      "Thrillers: 65\n",
      "Horror Movies: 275\n",
      "Kids' TV: 387\n",
      "Action & Adventure: 859\n",
      "Reality TV: 120\n",
      "Anime Series: 175\n",
      "International Movies: 128\n",
      "Sci-Fi & Fantasy: 13\n",
      "Classic Movies: 80\n",
      "Stand-Up Comedy: 334\n",
      "TV Action & Adventure: 40\n",
      "Stand-Up Comedy & Talk Shows: 34\n",
      "Classic & Cult TV: 22\n",
      "Anime Features: 21\n",
      "Romantic TV Shows: 32\n",
      "Cult Movies: 12\n",
      "Independent Movies: 20\n",
      "TV Horror: 11\n",
      "Spanish-Language TV Shows: 2\n",
      "Music & Musicals: 18\n",
      "Romantic Movies: 3\n",
      "LGBTQ Movies: 1\n",
      "TV Sci-Fi & Fantasy: 1\n",
      "Sports Movies: 1\n"
     ]
    }
   ],
   "source": [
    "from collections import Counter\n",
    "\n",
    "# List of values in the 'genre' column\n",
    "genrelist = streaming_platforms_df['genre'].tolist()\n",
    "\n",
    "# Count the occurrences of each genre\n",
    "genre_counts = Counter(genrelist)\n",
    "\n",
    "# Show the counts\n",
    "for genre, count in genre_counts.items():\n",
    "    print(f\"{genre}: {count}\")"
   ]
  },
  {
   "cell_type": "markdown",
   "metadata": {},
   "source": [
    "### 5. Data Loading"
   ]
  },
  {
   "cell_type": "code",
   "execution_count": 168,
   "metadata": {},
   "outputs": [
    {
     "name": "stdout",
     "output_type": "stream",
     "text": [
      "Tables created successfully!\n"
     ]
    }
   ],
   "source": [
    "import mysql.connector\n",
    "\n",
    "try:\n",
    "    # Connect to MySQL\n",
    "    connection = mysql.connector.connect(\n",
    "        host=\"localhost\",\n",
    "        user=\"cfitzpatrick\",\n",
    "        passwd=\"your_password\",\n",
    "        database=\"Group_5\"\n",
    "    )\n",
    "\n",
    "   \n",
    "    cursor = connection.cursor()\n",
    "\n",
    "    # Define SQL statements to create tables\n",
    "    create_movie_table_query = \"\"\"\n",
    "    CREATE TABLE IF NOT EXISTS movie (\n",
    "        id INT AUTO_INCREMENT PRIMARY KEY,\n",
    "        title VARCHAR(255),\n",
    "        release_year INT,\n",
    "        rating VARCHAR(10),\n",
    "        duration VARCHAR(20),\n",
    "        description TEXT,\n",
    "        platform VARCHAR(50),\n",
    "        headquarters VARCHAR(100),\n",
    "        date_founded DATE\n",
    "    )\n",
    "    \"\"\"\n",
    "\n",
    "    create_genre_table_query = \"\"\"\n",
    "    CREATE TABLE IF NOT EXISTS genre (\n",
    "        id INT AUTO_INCREMENT PRIMARY KEY,\n",
    "        genre_name VARCHAR(255) UNIQUE\n",
    "    )\n",
    "    \"\"\"\n",
    "\n",
    "    create_streaming_platform_table_query = \"\"\"\n",
    "    CREATE TABLE IF NOT EXISTS streaming_platform (\n",
    "        id INT AUTO_INCREMENT PRIMARY KEY,\n",
    "        platform_name VARCHAR(50) UNIQUE,\n",
    "        headquarters VARCHAR(100),\n",
    "        date_founded DATE\n",
    "    )\n",
    "    \"\"\"\n",
    "\n",
    "    create_tv_show_table_query = \"\"\"\n",
    "    CREATE TABLE IF NOT EXISTS tv_show (\n",
    "        id INT AUTO_INCREMENT PRIMARY KEY,\n",
    "        title VARCHAR(255),\n",
    "        release_year INT,\n",
    "        rating VARCHAR(10),\n",
    "        duration VARCHAR(20),\n",
    "        description TEXT,\n",
    "        platform VARCHAR(50),\n",
    "        headquarters VARCHAR(100),\n",
    "        date_founded DATE\n",
    "    )\n",
    "    \"\"\"\n",
    "\n",
    "    # Execute the queries\n",
    "    cursor.execute(create_movie_table_query)\n",
    "    cursor.execute(create_genre_table_query)\n",
    "    cursor.execute(create_streaming_platform_table_query)\n",
    "    cursor.execute(create_tv_show_table_query)\n",
    "\n",
    "    # Commit the transaction\n",
    "    connection.commit()\n",
    "\n",
    "    print(\"Tables created successfully!\")\n",
    "\n",
    "except mysql.connector.Error as error:\n",
    "    print(\"Error:\", error)\n"
   ]
  },
  {
   "cell_type": "code",
   "execution_count": 27,
   "metadata": {},
   "outputs": [
    {
     "name": "stdout",
     "output_type": "stream",
     "text": [
      "Table 'rating' created successfully!\n"
     ]
    }
   ],
   "source": [
    "# Create rating table\n",
    "try:\n",
    "    cursor.execute(\"\"\"\n",
    "    CREATE TABLE IF NOT EXISTS rating (\n",
    "        id INT AUTO_INCREMENT PRIMARY KEY,\n",
    "        rating_value VARCHAR(10) NOT NULL\n",
    "    )\n",
    "    \"\"\")\n",
    "    \n",
    "    print(\"Table 'rating' created successfully!\")\n",
    "\n",
    "except mysql.connector.Error as error:\n",
    "    print(\"Error:\", error)"
   ]
  },
  {
   "cell_type": "code",
   "execution_count": 38,
   "metadata": {
    "scrolled": true
   },
   "outputs": [
    {
     "name": "stdout",
     "output_type": "stream",
     "text": [
      "genre\n",
      "movie\n",
      "rating\n",
      "streaming_platform\n",
      "tv_show\n"
     ]
    }
   ],
   "source": [
    "#See the tables for Group_5 schema \n",
    "query = \"SHOW TABLES\"\n",
    "cursor.execute(query)\n",
    "tables = cursor.fetchall()\n",
    "\n",
    "# Print the table names\n",
    "for table in tables:\n",
    "    print(table[0])"
   ]
  },
  {
   "cell_type": "markdown",
   "metadata": {},
   "source": [
    "### Load data into SQL database tables "
   ]
  },
  {
   "cell_type": "code",
   "execution_count": 29,
   "metadata": {},
   "outputs": [],
   "source": [
    "# Iterate over each row in the DataFrame\n",
    "for index, row in streaming_platforms_df.iterrows():\n",
    "    # Check if the platform already exists\n",
    "    platform_query = \"SELECT * FROM streaming_platform WHERE platform_name = %s\"\n",
    "    cursor.execute(platform_query, (row['platform'],))\n",
    "    existing_platform = cursor.fetchone()\n",
    "\n",
    "    if not existing_platform:\n",
    "        # Insert into streaming_platform table\n",
    "        streaming_platform_query = \"INSERT INTO streaming_platform (platform_name, headquarters, date_founded) VALUES (%s, %s, %s)\"\n",
    "        streaming_platform_data = (row['platform'], row['headquarters'], str(row['date_founded']))\n",
    "        cursor.execute(streaming_platform_query, streaming_platform_data)\n",
    "\n",
    "    # Insert into movie or TV show table\n",
    "    if row['type'] == 'Movie':\n",
    "        movie_query = \"INSERT INTO movie (title, release_year, rating, duration, description, platform, headquarters, date_founded) VALUES (%s, %s, %s, %s, %s, %s, %s, %s)\"\n",
    "        movie_data = (row['title'], row['release_year'], row['rating'], row['duration'], row['description'], row['platform'], row['headquarters'], str(row['date_founded']))\n",
    "        cursor.execute(movie_query, movie_data)\n",
    "    elif row['type'] == 'TV Show':\n",
    "        tv_show_query = \"INSERT INTO tv_show (title, release_year, rating, duration, description, platform, headquarters, date_founded) VALUES (%s, %s, %s, %s, %s, %s, %s, %s)\"\n",
    "        tv_show_data = (row['title'], row['release_year'], row['rating'], row['duration'], row['description'], row['platform'], row['headquarters'], str(row['date_founded']))\n",
    "        cursor.execute(tv_show_query, tv_show_data)\n",
    "\n",
    "# Commit the changes and close the connection\n",
    "connection.commit()"
   ]
  },
  {
   "cell_type": "code",
   "execution_count": null,
   "metadata": {},
   "outputs": [],
   "source": [
    "#Load table for genre"
   ]
  },
  {
   "cell_type": "code",
   "execution_count": 145,
   "metadata": {},
   "outputs": [
    {
     "name": "stdout",
     "output_type": "stream",
     "text": [
      "Action\n",
      "Action & Adventure\n",
      "Action-Adventure\n",
      "Adventure\n",
      "and Culture\n",
      "Animals & Nature\n",
      "Animation\n",
      "Anime\n",
      "Anime Features\n",
      "Anime Series\n",
      "Anthology\n",
      "Arthouse\n",
      "Arts\n",
      "Biographical\n",
      "British TV Shows\n",
      "Buddy\n",
      "Children & Family Movies\n",
      "Classic & Cult TV\n",
      "Classic Movies\n",
      "Comedies\n",
      "Comedy\n",
      "Coming of Age\n",
      "Concert Film\n",
      "Crime\n",
      "Crime TV Shows\n",
      "Cult Movies\n",
      "Dance\n",
      "Disaster\n",
      "Documentaries\n",
      "Documentary\n",
      "Docuseries\n",
      "Drama\n",
      "Dramas\n",
      "Entertainment\n",
      "Faith & Spirituality\n",
      "Faith and Spirituality\n",
      "Family\n",
      "Fantasy\n",
      "Fitness\n",
      "Game Show / Competition\n",
      "Historical\n",
      "Horror\n",
      "Horror Movies\n",
      "Independent Movies\n",
      "International\n",
      "International Movies\n",
      "International TV Shows\n",
      "Kids\n",
      "Kids' TV\n",
      "Korean TV Shows\n",
      "LGBTQ\n",
      "LGBTQ Movies\n",
      "Lifestyle\n",
      "Medical\n",
      "Military and War\n",
      "Movies\n",
      "Music\n",
      "Music & Musicals\n",
      "Music Videos and Concerts\n",
      "Musical\n",
      "Mystery\n",
      "Parody\n",
      "Police/Cop\n",
      "Reality\n",
      "Reality TV\n",
      "Romance\n",
      "Romantic Comedy\n",
      "Romantic Movies\n",
      "Romantic TV Shows\n",
      "Sci-Fi & Fantasy\n",
      "Science & Nature TV\n",
      "Science Fiction\n",
      "Series\n",
      "Soap Opera / Melodrama\n",
      "Spanish-Language TV Shows\n",
      "Special Interest\n",
      "Sports\n",
      "Sports Movies\n",
      "Spy/Espionage\n",
      "Stand-Up Comedy\n",
      "Stand-Up Comedy & Talk Shows\n",
      "Superhero\n",
      "Survival\n",
      "Suspense\n",
      "Talk Show\n",
      "Talk Show and Variety\n",
      "Teen TV Shows\n",
      "Thriller\n",
      "Thrillers\n",
      "Travel\n",
      "TV Action & Adventure\n",
      "TV Comedies\n",
      "TV Dramas\n",
      "TV Horror\n",
      "TV Mysteries\n",
      "TV Sci-Fi & Fantasy\n",
      "TV Shows\n",
      "TV Thrillers\n",
      "Unscripted\n",
      "Variety\n",
      "Western\n",
      "Young Adult Audience\n"
     ]
    }
   ],
   "source": [
    "# Extract unique genres from the DataFrame\n",
    "unique_genres = set()\n",
    "for genres in streaming_platforms_df['genre'].str.split(', '):\n",
    "    unique_genres.update(genres)\n",
    "\n",
    "# Insert unique genres into the genre table\n",
    "cursor = connection.cursor()\n",
    "for genre in unique_genres:\n",
    "    try:\n",
    "        # Check if the genre already exists in the table\n",
    "        cursor.execute(\"SELECT id FROM genre WHERE genre_name = %s\", (genre,))\n",
    "        result = cursor.fetchone()\n",
    "        if result is None:\n",
    "            cursor.execute(\"INSERT INTO genre (genre_name) VALUES (%s)\", (genre,))\n",
    "            connection.commit()\n",
    "    except mysql.connector.Error as error:\n",
    "        print(\"Error:\", error)\n",
    "        \n",
    "\n",
    "        # Execute a query to select all values from the genre_name column in the genre table\n",
    "cursor = connection.cursor()\n",
    "cursor.execute(\"SELECT genre_name FROM genre\")\n",
    "\n",
    "# Fetch all the results\n",
    "genre_names = cursor.fetchall()\n",
    "\n",
    "# Print the genre names\n",
    "for genre_name in genre_names:\n",
    "    print(genre_name[0])"
   ]
  },
  {
   "cell_type": "code",
   "execution_count": 37,
   "metadata": {},
   "outputs": [],
   "source": [
    "# # Update the main DataFrame to include genre IDs\n",
    "# genre_ids = []\n",
    "# for index, row in streaming_platforms_df.iterrows():\n",
    "#     row_genre_ids = []\n",
    "#     for genre in row['genre'].split(', '):\n",
    "#         try:\n",
    "#             cursor.execute(\"SELECT id FROM genre WHERE genre_name = %s\", (genre,))\n",
    "#             genre_id = cursor.fetchone()[0]\n",
    "#             row_genre_ids.append(genre_id)\n",
    "#         except mysql.connector.Error as error:\n",
    "#             print(\"Error:\", error)\n",
    "#     genre_ids.append(row_genre_ids)\n",
    "\n",
    "# # Add a new column 'genre_ids' to the DataFrame\n",
    "# streaming_platforms_df['genre_ids'] = genre_ids\n",
    "\n",
    "# # Commit the changes\n",
    "# connection.commit()\n"
   ]
  },
  {
   "cell_type": "markdown",
   "metadata": {},
   "source": [
    "### Check our tables"
   ]
  },
  {
   "cell_type": "code",
   "execution_count": null,
   "metadata": {},
   "outputs": [],
   "source": []
  },
  {
   "cell_type": "code",
   "execution_count": 132,
   "metadata": {},
   "outputs": [
    {
     "name": "stdout",
     "output_type": "stream",
     "text": [
      "Movie Table Data:\n",
      "(1, 'Take Care Good Night', 2018, '13+', '110 min', 'A Metro Family decides to fight a Cyber Criminal threatening their stability and pride.', 'Amazon Prime', 'Seattle, Washington', datetime.date(2005, 2, 2))\n",
      "(2, 'Take Care Good Night', 2018, '13+', '110 min', 'A Metro Family decides to fight a Cyber Criminal threatening their stability and pride.', 'Amazon Prime', 'Seattle, Washington', datetime.date(2005, 2, 2))\n",
      "(3, 'Take Care Good Night', 2018, '13+', '110 min', 'A Metro Family decides to fight a Cyber Criminal threatening their stability and pride.', 'Amazon Prime', 'Seattle, Washington', datetime.date(2005, 2, 2))\n",
      "(4, 'Zoombies', 2016, '13+', '87 min', 'When a strange virus quickly spreads through a safari park and turns all the zoo animals undead, those left in the park must stop the creatures before they escape and zombify the whole city.', 'Amazon Prime', 'Seattle, Washington', datetime.date(2005, 2, 2))\n",
      "(5, 'Zoe', 2018, 'R', '104 min', 'ZOE tells a tale of forbidden love between an engineer and a robot. ZOE (Léa Seydoux) and COLE (Ewan McGregor) are colleagues and veiled lovers at a lab working to perfect romantic relationships. But their relationship is threatened when Zoe discovers the truth about their relationship, sending them into a spiral of confusion, betrayal and the most intense of human emotions, love.', 'Amazon Prime', 'Seattle, Washington', datetime.date(2005, 2, 2))\n",
      "\n",
      "Genre Table Data:\n",
      "(9, 'Action')\n",
      "(40, 'Action & Adventure')\n",
      "(74, 'Action-Adventure')\n",
      "(58, 'Adventure')\n",
      "(76, 'and Culture')\n",
      "\n",
      "Streaming Platform Table Data:\n",
      "(1, 'Amazon Prime', None, None)\n",
      "(2, 'Disney Plus', None, None)\n",
      "(3, 'Netflix', None, None)\n",
      "\n",
      "TV Show Table Data:\n",
      "(1, 'Zoo Babies', 2008, 'ALL', '1 Season', \"A heart warming and inspiring series that welcomes the arrival of new members of the animal kingdom in Zoo's around the world, as well as showcasing endangered species being born in captivity, 'Zoo Babies' is perfect family viewing packaged with fun, colourful graphics designed to capture the attention of little ones.\", 'Amazon Prime', 'Seattle, Washington', datetime.date(2005, 2, 2))\n",
      "(2, 'Zoë Coombs Marr: Bossy Bottom', 2020, '18+', '1 Season', 'Zoë Coombs Marr has been on hiatus. Sort of. For six years, she won stacks of awards and acclaim as a hack comic with a neckbeard called Dave. Whatever. She’s scraped off the neckbeard and is BAAAACK… as herself. There is no comedian quite like Zoë. Bossy Bottom is a joyously silly return to very serious stand up from the\\xa0MICF Most Outstanding Show winner and Edinburgh Best Show nominee.', 'Amazon Prime', 'Seattle, Washington', datetime.date(2005, 2, 2))\n",
      "(3, 'Zoboomafoo', 2001, 'TV-Y', '1 Season', 'Chris and Martin Kratt bring their enthusiasm for animals to the pre-school set.', 'Amazon Prime', 'Seattle, Washington', datetime.date(2005, 2, 2))\n",
      "(4, 'Zo Zo Zombie: Mini-Series', 2020, 'TV-Y7', '1 Season', 'Zo Zo Zombie is our undead hero who, with his best [human] friend Isamu, is just trying to do some good in this world but somehow always ends up in pieces. Literally.', 'Amazon Prime', 'Seattle, Washington', datetime.date(2005, 2, 2))\n",
      "(5, 'ZeroZeroZero', 2020, '18+', '1 Season', 'ZeroZeroZero series follows the journey of a cocaine shipment, from the moment a powerful cartel of Italian criminals decides to buy it until the cargo is delivered and paid for, passing through its packaging in Mexico and shipment across the Atlantic Ocean.', 'Amazon Prime', 'Seattle, Washington', datetime.date(2005, 2, 2))\n"
     ]
    }
   ],
   "source": [
    "try:\n",
    "    # Connect to MySQL\n",
    "    connection = mysql.connector.connect(\n",
    "        host=\"localhost\",\n",
    "        user=\"cfitzpatrick\",\n",
    "        passwd=\"your_password\",\n",
    "        database=\"Group_5\"\n",
    "    )\n",
    "\n",
    "    cursor = connection.cursor()\n",
    "\n",
    "    # Define SQL queries to select data from each table\n",
    "    select_movie_query = \"SELECT * FROM movie LIMIT 5\"\n",
    "    select_genre_query = \"SELECT * FROM genre LIMIT 5\"\n",
    "    select_streaming_platform_query = \"SELECT * FROM streaming_platform LIMIT 5\"\n",
    "    select_tv_show_query = \"SELECT * FROM tv_show LIMIT 5\"\n",
    "\n",
    "    # Execute the queries\n",
    "    cursor.execute(select_movie_query)\n",
    "    movie_data = cursor.fetchall()\n",
    "\n",
    "    cursor.execute(select_genre_query)\n",
    "    genre_data = cursor.fetchall()\n",
    "\n",
    "    cursor.execute(select_streaming_platform_query)\n",
    "    streaming_platform_data = cursor.fetchall()\n",
    "\n",
    "    cursor.execute(select_tv_show_query)\n",
    "    tv_show_data = cursor.fetchall()\n",
    "\n",
    "    # Print the data\n",
    "    print(\"Movie Table Data:\")\n",
    "    for row in movie_data:\n",
    "        print(row)\n",
    "\n",
    "    print(\"\\nGenre Table Data:\")\n",
    "    for row in genre_data:\n",
    "        print(row)\n",
    "\n",
    "    print(\"\\nStreaming Platform Table Data:\")\n",
    "    for row in streaming_platform_data:\n",
    "        print(row)\n",
    "\n",
    "    print(\"\\nTV Show Table Data:\")\n",
    "    for row in tv_show_data:\n",
    "        print(row)\n",
    "\n",
    "except mysql.connector.Error as error:\n",
    "    print(\"Error:\", error)\n",
    "\n",
    "\n",
    "        "
   ]
  },
  {
   "cell_type": "code",
   "execution_count": 128,
   "metadata": {},
   "outputs": [],
   "source": [
    "#pip install --upgrade bokeh"
   ]
  },
  {
   "cell_type": "code",
   "execution_count": 129,
   "metadata": {},
   "outputs": [],
   "source": [
    "#pip install --upgrade panel"
   ]
  },
  {
   "cell_type": "markdown",
   "metadata": {},
   "source": [
    "## Visualization Dashboard using logging"
   ]
  },
  {
   "cell_type": "code",
   "execution_count": null,
   "metadata": {},
   "outputs": [],
   "source": []
  },
  {
   "cell_type": "code",
   "execution_count": 159,
   "metadata": {
    "scrolled": true
   },
   "outputs": [
    {
     "name": "stdout",
     "output_type": "stream",
     "text": [
      "Data successfully fetched from the database.\n",
      "   id          genre_name\n",
      "0   9              Action\n",
      "1  40  Action & Adventure\n",
      "2  74    Action-Adventure\n",
      "3  58           Adventure\n",
      "4  76         and Culture\n"
     ]
    }
   ],
   "source": [
    "import mysql.connector\n",
    "\n",
    "# Connect to MySQL\n",
    "connection = mysql.connector.connect(\n",
    "    host=\"localhost\",\n",
    "    user=\"cfitzpatrick\",\n",
    "    passwd=\"your_password\",\n",
    "    database=\"Group_5\"\n",
    ")\n",
    "\n",
    "# Define SQL query to fetch data\n",
    "query = \"SELECT * FROM genre\"\n",
    "\n",
    "# Execute SQL query and fetch data into a DataFrame\n",
    "import pandas as pd\n",
    "try:\n",
    "    streaming_platforms_df = pd.read_sql(query, connection)\n",
    "    print(\"Data successfully fetched from the database.\")\n",
    "    print(streaming_platforms_df.head())  # Print the first few rows of the DataFrame\n",
    "except Exception as e:\n",
    "    print(\"Error fetching data:\", e)\n",
    "\n",
    "# Close the connection\n",
    "connection.close()\n"
   ]
  },
  {
   "cell_type": "code",
   "execution_count": 179,
   "metadata": {},
   "outputs": [
    {
     "name": "stdout",
     "output_type": "stream",
     "text": [
      "Launching server at http://localhost:59499\n"
     ]
    },
    {
     "data": {
      "text/plain": [
       "<panel.io.server.Server at 0x7fdb24242c10>"
      ]
     },
     "execution_count": 179,
     "metadata": {},
     "output_type": "execute_result"
    },
    {
     "name": "stderr",
     "output_type": "stream",
     "text": [
      "INFO:tornado.access:200 GET / (::1) 400.61ms\n",
      "INFO:tornado.access:200 GET /static/extensions/panel/bundled/datatabulator/tabulator-tables@5.5.0/dist/css/tabulator_simple.min.css (::1) 1.76ms\n",
      "INFO:tornado.access:200 GET /static/extensions/panel/bundled/datatabulator/luxon/build/global/luxon.min.js (::1) 8.80ms\n",
      "INFO:tornado.access:200 GET /static/js/bokeh-gl.min.js?v=6721b980580fb8317f83927f85b92aea8fec9bcd94ff58f895f85e5617987ee82f89b5da322b9cdb482c46ac2bd3442466f7ce2484bae8b414318a7ace09e901 (::1) 14.17ms\n",
      "INFO:tornado.access:200 GET /static/js/bokeh-widgets.min.js?v=31de1843fe9e438f1829e492effd36329ababde542605297701ad7d96d2fc86464984340ba7645878652d1dccf43f535033e4cc55a45008c5bba7c20ae4577b9 (::1) 15.97ms\n",
      "INFO:tornado.access:200 GET /static/extensions/panel/bundled/datatabulator/tabulator-tables@5.5.0/dist/js/tabulator.min.js (::1) 15.09ms\n",
      "INFO:tornado.access:200 GET /static/extensions/panel/panel.min.js?v=4dc754e770a2aaf1bd357f00e2c1ffb347b27f3b739a37791169825d30b0a501 (::1) 20.12ms\n",
      "INFO:tornado.access:200 GET /static/js/bokeh-tables.min.js?v=755762f1b7b2263c503b8b87d5b02c242930ea7020b58deba3f8a9850aeeb96f21cd9c73e8ba792fce5be3489a32a4e3b852fe9eef1b3915ca60b08e349fe2fd (::1) 12.12ms\n",
      "INFO:tornado.access:200 GET /static/js/bokeh.min.js?v=15dc4235f19f49742da0da503e059b08fd36649cd0c5a3e570cb2d53c86393c9b8ede7d19c9e3ab6da35adec3869a0b95f1a8d48fa2a7ebc6a45c69113c8829b (::1) 59.79ms\n",
      "INFO:tornado.access:101 GET /ws (::1) 0.86ms\n",
      "INFO:tornado.access:200 GET /static/extensions/panel/images/favicon.ico (::1) 7.71ms\n",
      "INFO:tornado.access:200 GET /static/extensions/panel/css/loading.css?v=1.3.8 (::1) 1.89ms\n",
      "INFO:tornado.access:200 GET /static/extensions/panel/css/listpanel.css?v=1.3.8 (::1) 8.08ms\n",
      "INFO:tornado.access:200 GET /static/extensions/panel/bundled/theme/default.css?v=1.3.8 (::1) 1.51ms\n",
      "INFO:tornado.access:200 GET /static/extensions/panel/bundled/theme/native.css?v=1.3.8 (::1) 2.62ms\n",
      "INFO:tornado.access:200 GET /static/extensions/panel/css/markdown.css?v=1.3.8 (::1) 3.42ms\n",
      "INFO:tornado.access:200 GET /static/extensions/panel/css/select.css?v=1.3.8 (::1) 5.14ms\n"
     ]
    }
   ],
   "source": [
    "import pandas as pd\n",
    "import mysql.connector\n",
    "import panel as pn\n",
    "import holoviews as hv\n",
    "\n",
    "# Connect to MySQL\n",
    "connection = mysql.connector.connect(\n",
    "    host=\"localhost\",\n",
    "    user=\"cfitzpatrick\",\n",
    "    passwd=\"your_password\",\n",
    "    database=\"Group_5\"\n",
    ")\n",
    "\n",
    "# Define SQL query to fetch data\n",
    "query = \"SELECT * FROM genre\"\n",
    "\n",
    "# Execute SQL query and fetch data into a DataFrame\n",
    "genre_df = pd.read_sql(query, connection)\n",
    "\n",
    "# Close the connection\n",
    "connection.close()\n",
    "\n",
    "# Create a list of all unique genres\n",
    "genres = genre_df['genre_name'].tolist()\n",
    "\n",
    "# Create dropdown widget\n",
    "genre_select = pn.widgets.Select(name='Select Genre', options=genres)\n",
    "\n",
    "# Define a function to create a plot based on the selected genre\n",
    "@pn.depends(genre_select.param.value)\n",
    "def create_genre_plot(genre):\n",
    "    # Retrieve data for the selected genre from the DataFrame or SQL query\n",
    "    # Example: df = streaming_platforms_df[streaming_platforms_df['genre'] == genre]\n",
    "    # Replace the above line with appropriate SQL query to fetch data from the database\n",
    "    \n",
    "    # For demonstration, let's create a random plot\n",
    "    data = {'x': range(10), 'y': [i ** 2 for i in range(10)]}\n",
    "    plot = hv.Points(data).opts(title=f'{genre} Plot')\n",
    "    return plot\n",
    "\n",
    "# Create a Panel dashboard\n",
    "dashboard = pn.Column(\n",
    "    '## Group Five Streaming Dashboard',\n",
    "    '## Select Genre',\n",
    "    genre_select,\n",
    "    '## Genre Plot',\n",
    "    create_genre_plot\n",
    ")\n",
    "\n",
    "# Show the dashboard\n",
    "dashboard.show()\n"
   ]
  },
  {
   "cell_type": "code",
   "execution_count": 177,
   "metadata": {},
   "outputs": [],
   "source": [
    "# import pandas as pd\n",
    "# import mysql.connector\n",
    "# import panel as pn\n",
    "# import holoviews as hv\n",
    "\n",
    "# # Connect to MySQL\n",
    "# connection = mysql.connector.connect(\n",
    "#     host=\"localhost\",\n",
    "#     user=\"cfitzpatrick\",\n",
    "#     passwd=\"your_password\",\n",
    "#     database=\"Group_5\"\n",
    "# )\n",
    "\n",
    "# # Define SQL queries to fetch data\n",
    "# movie_query = \"SELECT * FROM movie\"\n",
    "# rating_query = \"SELECT * FROM rating\"\n",
    "# platform_query = \"SELECT * FROM streaming_platform\"\n",
    "# genre_query = \"SELECT * FROM genre\"\n",
    "\n",
    "# # Execute SQL queries and fetch data into DataFrames\n",
    "# movie_df = pd.read_sql(movie_query, connection)\n",
    "# rating_df = pd.read_sql(rating_query, connection)\n",
    "# platform_df = pd.read_sql(platform_query, connection)\n",
    "# genre_df = pd.read_sql(genre_query, connection)\n",
    "\n",
    "# # Close the connection\n",
    "# connection.close()\n",
    "\n",
    "# # Define a function to create the dashboard\n",
    "# def create_dashboard():\n",
    "#     # Create dropdown widgets\n",
    "#     platform_select = pn.widgets.Select(name='Select Platform', options=platform_df['platform_name'].tolist())\n",
    "#     genre_select = pn.widgets.Select(name='Select Genre', options=genre_df['genre_name'].tolist())\n",
    "    \n",
    "#     # Define functions to create plots based on the selected platform and genre\n",
    "#     @pn.depends(platform_select.param.value)\n",
    "#     def create_release_year_plot(platform):\n",
    "#         # Retrieve data for the selected platform from the movie DataFrame\n",
    "#         df = movie_df[movie_df['platform'] == platform]\n",
    "#         plot = df['release_year'].value_counts().sort_index().hvplot(title=f'{platform} Release Year Plot')\n",
    "#         return plot\n",
    "\n",
    "#     @pn.depends(platform_select.param.value)\n",
    "#     def create_rating_plot(platform):\n",
    "#         # Retrieve data for the selected platform from the rating DataFrame\n",
    "#         df = rating_df.merge(movie_df, how='inner', on='id')\n",
    "#         df = df[df['platform'] == platform]\n",
    "#         plot = df['rating_value'].value_counts().hvplot.bar(title=f'{platform} Rating Plot')\n",
    "#         return plot\n",
    "\n",
    "#     @pn.depends(genre_select.param.value)\n",
    "#     def create_genre_plot(genre):\n",
    "#         # Retrieve data for the selected genre from the movie DataFrame\n",
    "#         df = movie_df[movie_df['genre'].str.contains(genre)]\n",
    "#         top_genres = df['genre'].value_counts().nlargest(5)\n",
    "#         plot = top_genres.hvplot.bar(title=f'Top Genres with {genre}')\n",
    "#         return plot\n",
    "\n",
    "#     # Create a Panel dashboard\n",
    "#     dashboard = pn.Column(\n",
    "#         '## Group Five Streaming Dashboard',\n",
    "#         '## Select Platform',\n",
    "#         platform_select,\n",
    "#         '## Release Year Plot',\n",
    "#         create_release_year_plot,\n",
    "#         '## Rating Plot',\n",
    "#         create_rating_plot,\n",
    "#         '## Select Genre',\n",
    "#         genre_select,\n",
    "#         '## Genre Plot',\n",
    "#         create_genre_plot\n",
    "#     )\n",
    "    \n",
    "#     return dashboard\n",
    "\n",
    "# # Show the dashboard\n",
    "# create_dashboard().show()\n"
   ]
  },
  {
   "cell_type": "code",
   "execution_count": 176,
   "metadata": {},
   "outputs": [
    {
     "ename": "KeyError",
     "evalue": "'platform'",
     "output_type": "error",
     "traceback": [
      "\u001b[0;31m---------------------------------------------------------------------------\u001b[0m",
      "\u001b[0;31mKeyError\u001b[0m                                  Traceback (most recent call last)",
      "\u001b[0;32m~/opt/anaconda3/lib/python3.9/site-packages/pandas/core/indexes/base.py\u001b[0m in \u001b[0;36mget_loc\u001b[0;34m(self, key)\u001b[0m\n\u001b[1;32m   3790\u001b[0m         \u001b[0;32mtry\u001b[0m\u001b[0;34m:\u001b[0m\u001b[0;34m\u001b[0m\u001b[0;34m\u001b[0m\u001b[0m\n\u001b[0;32m-> 3791\u001b[0;31m             \u001b[0;32mreturn\u001b[0m \u001b[0mself\u001b[0m\u001b[0;34m.\u001b[0m\u001b[0m_engine\u001b[0m\u001b[0;34m.\u001b[0m\u001b[0mget_loc\u001b[0m\u001b[0;34m(\u001b[0m\u001b[0mcasted_key\u001b[0m\u001b[0;34m)\u001b[0m\u001b[0;34m\u001b[0m\u001b[0;34m\u001b[0m\u001b[0m\n\u001b[0m\u001b[1;32m   3792\u001b[0m         \u001b[0;32mexcept\u001b[0m \u001b[0mKeyError\u001b[0m \u001b[0;32mas\u001b[0m \u001b[0merr\u001b[0m\u001b[0;34m:\u001b[0m\u001b[0;34m\u001b[0m\u001b[0;34m\u001b[0m\u001b[0m\n",
      "\u001b[0;32mindex.pyx\u001b[0m in \u001b[0;36mpandas._libs.index.IndexEngine.get_loc\u001b[0;34m()\u001b[0m\n",
      "\u001b[0;32mindex.pyx\u001b[0m in \u001b[0;36mpandas._libs.index.IndexEngine.get_loc\u001b[0;34m()\u001b[0m\n",
      "\u001b[0;32mpandas/_libs/hashtable_class_helper.pxi\u001b[0m in \u001b[0;36mpandas._libs.hashtable.PyObjectHashTable.get_item\u001b[0;34m()\u001b[0m\n",
      "\u001b[0;32mpandas/_libs/hashtable_class_helper.pxi\u001b[0m in \u001b[0;36mpandas._libs.hashtable.PyObjectHashTable.get_item\u001b[0;34m()\u001b[0m\n",
      "\u001b[0;31mKeyError\u001b[0m: 'platform'",
      "\nThe above exception was the direct cause of the following exception:\n",
      "\u001b[0;31mKeyError\u001b[0m                                  Traceback (most recent call last)",
      "\u001b[0;32m/var/folders/_k/y2qklzp93n379z5z7m14rx900000gn/T/ipykernel_89287/3558951278.py\u001b[0m in \u001b[0;36m<module>\u001b[0;34m\u001b[0m\n\u001b[1;32m      8\u001b[0m \u001b[0;34m\u001b[0m\u001b[0m\n\u001b[1;32m      9\u001b[0m \u001b[0;31m# Create a list of all unique platforms\u001b[0m\u001b[0;34m\u001b[0m\u001b[0;34m\u001b[0m\u001b[0m\n\u001b[0;32m---> 10\u001b[0;31m \u001b[0mplatforms\u001b[0m \u001b[0;34m=\u001b[0m \u001b[0mstreaming_platforms_df\u001b[0m\u001b[0;34m[\u001b[0m\u001b[0;34m'platform'\u001b[0m\u001b[0;34m]\u001b[0m\u001b[0;34m.\u001b[0m\u001b[0munique\u001b[0m\u001b[0;34m(\u001b[0m\u001b[0;34m)\u001b[0m\u001b[0;34m.\u001b[0m\u001b[0mtolist\u001b[0m\u001b[0;34m(\u001b[0m\u001b[0;34m)\u001b[0m\u001b[0;34m\u001b[0m\u001b[0;34m\u001b[0m\u001b[0m\n\u001b[0m\u001b[1;32m     11\u001b[0m \u001b[0;34m\u001b[0m\u001b[0m\n\u001b[1;32m     12\u001b[0m \u001b[0;31m# Create dropdown widget\u001b[0m\u001b[0;34m\u001b[0m\u001b[0;34m\u001b[0m\u001b[0m\n",
      "\u001b[0;32m~/opt/anaconda3/lib/python3.9/site-packages/pandas/core/frame.py\u001b[0m in \u001b[0;36m__getitem__\u001b[0;34m(self, key)\u001b[0m\n\u001b[1;32m   3891\u001b[0m             \u001b[0;32mif\u001b[0m \u001b[0mself\u001b[0m\u001b[0;34m.\u001b[0m\u001b[0mcolumns\u001b[0m\u001b[0;34m.\u001b[0m\u001b[0mnlevels\u001b[0m \u001b[0;34m>\u001b[0m \u001b[0;36m1\u001b[0m\u001b[0;34m:\u001b[0m\u001b[0;34m\u001b[0m\u001b[0;34m\u001b[0m\u001b[0m\n\u001b[1;32m   3892\u001b[0m                 \u001b[0;32mreturn\u001b[0m \u001b[0mself\u001b[0m\u001b[0;34m.\u001b[0m\u001b[0m_getitem_multilevel\u001b[0m\u001b[0;34m(\u001b[0m\u001b[0mkey\u001b[0m\u001b[0;34m)\u001b[0m\u001b[0;34m\u001b[0m\u001b[0;34m\u001b[0m\u001b[0m\n\u001b[0;32m-> 3893\u001b[0;31m             \u001b[0mindexer\u001b[0m \u001b[0;34m=\u001b[0m \u001b[0mself\u001b[0m\u001b[0;34m.\u001b[0m\u001b[0mcolumns\u001b[0m\u001b[0;34m.\u001b[0m\u001b[0mget_loc\u001b[0m\u001b[0;34m(\u001b[0m\u001b[0mkey\u001b[0m\u001b[0;34m)\u001b[0m\u001b[0;34m\u001b[0m\u001b[0;34m\u001b[0m\u001b[0m\n\u001b[0m\u001b[1;32m   3894\u001b[0m             \u001b[0;32mif\u001b[0m \u001b[0mis_integer\u001b[0m\u001b[0;34m(\u001b[0m\u001b[0mindexer\u001b[0m\u001b[0;34m)\u001b[0m\u001b[0;34m:\u001b[0m\u001b[0;34m\u001b[0m\u001b[0;34m\u001b[0m\u001b[0m\n\u001b[1;32m   3895\u001b[0m                 \u001b[0mindexer\u001b[0m \u001b[0;34m=\u001b[0m \u001b[0;34m[\u001b[0m\u001b[0mindexer\u001b[0m\u001b[0;34m]\u001b[0m\u001b[0;34m\u001b[0m\u001b[0;34m\u001b[0m\u001b[0m\n",
      "\u001b[0;32m~/opt/anaconda3/lib/python3.9/site-packages/pandas/core/indexes/base.py\u001b[0m in \u001b[0;36mget_loc\u001b[0;34m(self, key)\u001b[0m\n\u001b[1;32m   3796\u001b[0m             ):\n\u001b[1;32m   3797\u001b[0m                 \u001b[0;32mraise\u001b[0m \u001b[0mInvalidIndexError\u001b[0m\u001b[0;34m(\u001b[0m\u001b[0mkey\u001b[0m\u001b[0;34m)\u001b[0m\u001b[0;34m\u001b[0m\u001b[0;34m\u001b[0m\u001b[0m\n\u001b[0;32m-> 3798\u001b[0;31m             \u001b[0;32mraise\u001b[0m \u001b[0mKeyError\u001b[0m\u001b[0;34m(\u001b[0m\u001b[0mkey\u001b[0m\u001b[0;34m)\u001b[0m \u001b[0;32mfrom\u001b[0m \u001b[0merr\u001b[0m\u001b[0;34m\u001b[0m\u001b[0;34m\u001b[0m\u001b[0m\n\u001b[0m\u001b[1;32m   3799\u001b[0m         \u001b[0;32mexcept\u001b[0m \u001b[0mTypeError\u001b[0m\u001b[0;34m:\u001b[0m\u001b[0;34m\u001b[0m\u001b[0;34m\u001b[0m\u001b[0m\n\u001b[1;32m   3800\u001b[0m             \u001b[0;31m# If we have a listlike key, _check_indexing_error will raise\u001b[0m\u001b[0;34m\u001b[0m\u001b[0;34m\u001b[0m\u001b[0m\n",
      "\u001b[0;31mKeyError\u001b[0m: 'platform'"
     ]
    }
   ],
   "source": [
    "import panel as pn\n",
    "import hvplot.pandas\n",
    "import logging\n",
    "\n",
    "# Configure logging\n",
    "logging.basicConfig(filename='dashboard.log', level=logging.INFO, format='%(asctime)s - %(levelname)s - %(message)s')\n",
    "\n",
    "\n",
    "# Create a list of all unique platforms\n",
    "platforms = streaming_platforms_df['platform'].unique().tolist()\n",
    "\n",
    "# Create dropdown widget\n",
    "platform_select = pn.widgets.Select(name='Select Platform', options=platforms)\n",
    "\n",
    "# Define a function to create a plot based on the selected platform\n",
    "@pn.depends(platform_select.param.value)\n",
    "def create_release_year_plot(platform):\n",
    "    try:\n",
    "        df = streaming_platforms_df[streaming_platforms_df['platform'] == platform]\n",
    "        return df['release_year'].value_counts().sort_index().hvplot()\n",
    "    except Exception as e:\n",
    "        logging.error(f\"Error in create_release_year_plot: {e}\")\n",
    "\n",
    "@pn.depends(platform_select.param.value)\n",
    "def create_rating_plot(platform):\n",
    "    try:\n",
    "        df = streaming_platforms_df[streaming_platforms_df['platform'] == platform]\n",
    "        return df['rating'].value_counts().hvplot.bar()\n",
    "    except Exception as e:\n",
    "        logging.error(f\"Error in create_rating_plot: {e}\")\n",
    "\n",
    "@pn.depends(platform_select.param.value)\n",
    "def create_genre_plot(platform):\n",
    "    try:\n",
    "        df = streaming_platforms_df[streaming_platforms_df['platform'] == platform]\n",
    "        top_genres = df['genre'].value_counts().nlargest(5)  # Get the top 10 genres\n",
    "        return top_genres.hvplot.bar()\n",
    "    except Exception as e:\n",
    "        logging.error(f\"Error in create_genre_plot: {e}\")\n",
    "\n",
    "# Create a Panel dashboard\n",
    "dashboard = pn.Column(\n",
    "    '## Select Platform',\n",
    "    platform_select,\n",
    "    '## Release Year Plot',\n",
    "    create_release_year_plot,\n",
    "    '## Rating Plot',\n",
    "    create_rating_plot,\n",
    "    '## Genre Plot',\n",
    "    create_genre_plot\n",
    ")\n",
    "\n",
    "# Show the dashboard\n",
    "dashboard.show()"
   ]
  },
  {
   "cell_type": "code",
   "execution_count": null,
   "metadata": {},
   "outputs": [],
   "source": [
    "# import panel as pn\n",
    "# import hvplot.pandas\n",
    "\n",
    "# # Create interactive plots using hvPlot\n",
    "# platform_plot = streaming_platforms_df['platform'].value_counts().hvplot.bar()\n",
    "# release_year_plot = streaming_platforms_df['release_year'].hvplot.hist()\n",
    "\n",
    "# # Create a Panel dashboard\n",
    "# dashboard = pn.Column(\n",
    "#     '# Streaming Platforms Dashboard',\n",
    "#     '## Platform Distribution',\n",
    "#     platform_plot,\n",
    "#     '## Release Year Distribution',\n",
    "#     release_year_plot,\n",
    "# )\n",
    "\n",
    "# # Show the dashboard\n",
    "# dashboard.show()"
   ]
  },
  {
   "cell_type": "code",
   "execution_count": 166,
   "metadata": {},
   "outputs": [
    {
     "name": "stdout",
     "output_type": "stream",
     "text": [
      "Table: genre\n",
      "('id', 'int', 'NO', 'PRI', None, 'auto_increment')\n",
      "('genre_name', 'varchar(255)', 'YES', 'UNI', None, '')\n",
      "\n",
      "Table: movie\n",
      "('id', 'int', 'NO', 'PRI', None, 'auto_increment')\n",
      "('title', 'varchar(255)', 'YES', '', None, '')\n",
      "('release_year', 'int', 'YES', '', None, '')\n",
      "('rating', 'varchar(10)', 'YES', '', None, '')\n",
      "('duration', 'varchar(20)', 'YES', '', None, '')\n",
      "('description', 'text', 'YES', '', None, '')\n",
      "('platform', 'varchar(50)', 'YES', '', None, '')\n",
      "('headquarters', 'varchar(100)', 'YES', '', None, '')\n",
      "('date_founded', 'date', 'YES', '', None, '')\n",
      "\n",
      "Table: rating\n",
      "('id', 'int', 'NO', 'PRI', None, 'auto_increment')\n",
      "('rating_value', 'varchar(10)', 'NO', '', None, '')\n",
      "\n",
      "Table: streaming_platform\n",
      "('id', 'int', 'NO', 'PRI', None, 'auto_increment')\n",
      "('platform_name', 'varchar(50)', 'YES', 'UNI', None, '')\n",
      "('headquarters', 'varchar(100)', 'YES', '', None, '')\n",
      "('date_founded', 'date', 'YES', '', None, '')\n",
      "\n",
      "Table: tv_show\n",
      "('id', 'int', 'NO', 'PRI', None, 'auto_increment')\n",
      "('title', 'varchar(255)', 'YES', '', None, '')\n",
      "('release_year', 'int', 'YES', '', None, '')\n",
      "('rating', 'varchar(10)', 'YES', '', None, '')\n",
      "('duration', 'varchar(20)', 'YES', '', None, '')\n",
      "('description', 'text', 'YES', '', None, '')\n",
      "('platform', 'varchar(50)', 'YES', '', None, '')\n",
      "('headquarters', 'varchar(100)', 'YES', '', None, '')\n",
      "('date_founded', 'date', 'YES', '', None, '')\n",
      "\n"
     ]
    }
   ],
   "source": [
    "import mysql.connector\n",
    "\n",
    "try:\n",
    "    # Connect to MySQL\n",
    "    connection = mysql.connector.connect(\n",
    "        host=\"localhost\",\n",
    "        user=\"cfitzpatrick\",\n",
    "        passwd=\"your_password\",\n",
    "        database=\"Group_5\"\n",
    "    )\n",
    "\n",
    "    # Create a cursor object\n",
    "    cursor = connection.cursor()\n",
    "\n",
    "    # List of tables\n",
    "    tables = ['genre', 'movie', 'rating', 'streaming_platform', 'tv_show']\n",
    "\n",
    "    # Iterate over tables\n",
    "    for table in tables:\n",
    "        print(f\"Table: {table}\")\n",
    "        # Execute the DESCRIBE command to see the structure of the table\n",
    "        cursor.execute(f\"DESCRIBE {table}\")\n",
    "\n",
    "        # Fetch all the rows\n",
    "        rows = cursor.fetchall()\n",
    "\n",
    "        # Print the column details\n",
    "        for row in rows:\n",
    "            print(row)\n",
    "\n",
    "        print()  # Add a blank line between tables\n",
    "\n",
    "    # Close the cursor and connection\n",
    "    cursor.close()\n",
    "    connection.close()\n",
    "\n",
    "except mysql.connector.Error as error:\n",
    "    print(\"Error while connecting to MySQL\", error)\n"
   ]
  },
  {
   "cell_type": "code",
   "execution_count": null,
   "metadata": {},
   "outputs": [],
   "source": []
  },
  {
   "cell_type": "code",
   "execution_count": 171,
   "metadata": {},
   "outputs": [
    {
     "name": "stdout",
     "output_type": "stream",
     "text": [
      "Genre:\n",
      "(9, 'Action')\n",
      "(40, 'Action & Adventure')\n",
      "(74, 'Action-Adventure')\n",
      "(58, 'Adventure')\n",
      "(76, 'and Culture')\n",
      "\n",
      "Movie:\n",
      "(1, 'Take Care Good Night', 2018, '13+', '110 min', 'A Metro Family decides to fight a Cyber Criminal threatening their stability and pride.', 'Amazon Prime', 'Seattle, Washington', datetime.date(2005, 2, 2))\n",
      "(2, 'Take Care Good Night', 2018, '13+', '110 min', 'A Metro Family decides to fight a Cyber Criminal threatening their stability and pride.', 'Amazon Prime', 'Seattle, Washington', datetime.date(2005, 2, 2))\n",
      "(3, 'Take Care Good Night', 2018, '13+', '110 min', 'A Metro Family decides to fight a Cyber Criminal threatening their stability and pride.', 'Amazon Prime', 'Seattle, Washington', datetime.date(2005, 2, 2))\n",
      "(4, 'Zoombies', 2016, '13+', '87 min', 'When a strange virus quickly spreads through a safari park and turns all the zoo animals undead, those left in the park must stop the creatures before they escape and zombify the whole city.', 'Amazon Prime', 'Seattle, Washington', datetime.date(2005, 2, 2))\n",
      "(5, 'Zoe', 2018, 'R', '104 min', 'ZOE tells a tale of forbidden love between an engineer and a robot. ZOE (Léa Seydoux) and COLE (Ewan McGregor) are colleagues and veiled lovers at a lab working to perfect romantic relationships. But their relationship is threatened when Zoe discovers the truth about their relationship, sending them into a spiral of confusion, betrayal and the most intense of human emotions, love.', 'Amazon Prime', 'Seattle, Washington', datetime.date(2005, 2, 2))\n",
      "\n",
      "Rating:\n",
      "(1, '13+')\n",
      "(2, '13+')\n",
      "(3, 'ALL')\n",
      "(4, '18+')\n",
      "(5, 'R')\n",
      "\n",
      "Streaming Platform:\n",
      "(1, 'Amazon Prime', None, None)\n",
      "(2, 'Disney Plus', None, None)\n",
      "(3, 'Netflix', None, None)\n",
      "\n",
      "TV Show:\n",
      "(1, 'Zoo Babies', 2008, 'ALL', '1 Season', \"A heart warming and inspiring series that welcomes the arrival of new members of the animal kingdom in Zoo's around the world, as well as showcasing endangered species being born in captivity, 'Zoo Babies' is perfect family viewing packaged with fun, colourful graphics designed to capture the attention of little ones.\", 'Amazon Prime', 'Seattle, Washington', datetime.date(2005, 2, 2))\n",
      "(2, 'Zoë Coombs Marr: Bossy Bottom', 2020, '18+', '1 Season', 'Zoë Coombs Marr has been on hiatus. Sort of. For six years, she won stacks of awards and acclaim as a hack comic with a neckbeard called Dave. Whatever. She’s scraped off the neckbeard and is BAAAACK… as herself. There is no comedian quite like Zoë. Bossy Bottom is a joyously silly return to very serious stand up from the\\xa0MICF Most Outstanding Show winner and Edinburgh Best Show nominee.', 'Amazon Prime', 'Seattle, Washington', datetime.date(2005, 2, 2))\n",
      "(3, 'Zoboomafoo', 2001, 'TV-Y', '1 Season', 'Chris and Martin Kratt bring their enthusiasm for animals to the pre-school set.', 'Amazon Prime', 'Seattle, Washington', datetime.date(2005, 2, 2))\n",
      "(4, 'Zo Zo Zombie: Mini-Series', 2020, 'TV-Y7', '1 Season', 'Zo Zo Zombie is our undead hero who, with his best [human] friend Isamu, is just trying to do some good in this world but somehow always ends up in pieces. Literally.', 'Amazon Prime', 'Seattle, Washington', datetime.date(2005, 2, 2))\n",
      "(5, 'ZeroZeroZero', 2020, '18+', '1 Season', 'ZeroZeroZero series follows the journey of a cocaine shipment, from the moment a powerful cartel of Italian criminals decides to buy it until the cargo is delivered and paid for, passing through its packaging in Mexico and shipment across the Atlantic Ocean.', 'Amazon Prime', 'Seattle, Washington', datetime.date(2005, 2, 2))\n"
     ]
    }
   ],
   "source": [
    "import mysql.connector\n",
    "from mysql.connector import Error\n",
    "\n",
    "try:\n",
    "    # Establish a connection to MySQL\n",
    "    connection = mysql.connector.connect(\n",
    "        host=\"localhost\",\n",
    "        user=\"cfitzpatrick\",\n",
    "        passwd=\"your_password\",\n",
    "        database=\"Group_5\"\n",
    "    )\n",
    "\n",
    "    # Check if the connection is successful\n",
    "    if connection.is_connected():\n",
    "        # Define the SQL queries to select data from each table\n",
    "        query_genre = \"SELECT * FROM genre LIMIT 5\"\n",
    "        query_movie = \"SELECT * FROM movie LIMIT 5\"\n",
    "        query_rating = \"SELECT * FROM rating LIMIT 5\"\n",
    "        query_streaming_platform = \"SELECT * FROM streaming_platform LIMIT 5\"\n",
    "        query_tv_show = \"SELECT * FROM tv_show LIMIT 5\"\n",
    "\n",
    "        # Execute the queries\n",
    "        cursor = connection.cursor()\n",
    "\n",
    "        cursor.execute(query_genre)\n",
    "        result_genre = cursor.fetchall()\n",
    "\n",
    "        cursor.execute(query_movie)\n",
    "        result_movie = cursor.fetchall()\n",
    "\n",
    "        cursor.execute(query_rating)\n",
    "        result_rating = cursor.fetchall()\n",
    "\n",
    "        cursor.execute(query_streaming_platform)\n",
    "        result_streaming_platform = cursor.fetchall()\n",
    "\n",
    "        cursor.execute(query_tv_show)\n",
    "        result_tv_show = cursor.fetchall()\n",
    "\n",
    "        # Print the results\n",
    "        print(\"Genre:\")\n",
    "        for row in result_genre:\n",
    "            print(row)\n",
    "\n",
    "        print(\"\\nMovie:\")\n",
    "        for row in result_movie:\n",
    "            print(row)\n",
    "\n",
    "        print(\"\\nRating:\")\n",
    "        for row in result_rating:\n",
    "            print(row)\n",
    "\n",
    "        print(\"\\nStreaming Platform:\")\n",
    "        for row in result_streaming_platform:\n",
    "            print(row)\n",
    "\n",
    "        print(\"\\nTV Show:\")\n",
    "        for row in result_tv_show:\n",
    "            print(row)\n",
    "\n",
    "except Error as e:\n",
    "    print(\"Error while connecting to MySQL\", e)\n",
    "\n",
    "finally:\n",
    "    # Close the connection\n",
    "    if 'connection' in locals():\n",
    "        connection.close()\n",
    "\n"
   ]
  }
 ],
 "metadata": {
  "kernelspec": {
   "display_name": "Python 3 (ipykernel)",
   "language": "python",
   "name": "python3"
  },
  "language_info": {
   "codemirror_mode": {
    "name": "ipython",
    "version": 3
   },
   "file_extension": ".py",
   "mimetype": "text/x-python",
   "name": "python",
   "nbconvert_exporter": "python",
   "pygments_lexer": "ipython3",
   "version": "3.9.7"
  }
 },
 "nbformat": 4,
 "nbformat_minor": 2
}
