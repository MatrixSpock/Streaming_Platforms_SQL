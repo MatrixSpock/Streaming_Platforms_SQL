{
 "cells": [
  {
   "cell_type": "markdown",
   "metadata": {},
   "source": [
    "# 1. Importing the Libraries"
   ]
  },
  {
   "cell_type": "code",
   "execution_count": null,
   "metadata": {},
   "outputs": [],
   "source": [
    "# importing packages\n",
    "import yaml\n",
    "import numpy as np \n",
    "import pandas as pd \n",
    "import matplotlib.pyplot as plt\n",
    "import mysql.connector\n",
    "import seaborn as sns\n",
    "import warnings \n",
    "warnings.filterwarnings('ignore')"
   ]
  },
  {
   "cell_type": "markdown",
   "metadata": {},
   "source": [
    "# 2. Data Extraction"
   ]
  },
  {
   "cell_type": "code",
   "execution_count": null,
   "metadata": {},
   "outputs": [],
   "source": [
    "# Load the configuration file\n",
    "with open('config.yml', 'r') as file:\n",
    "    config = yaml.safe_load(file)\n",
    "\n",
    "# Access the database configuration\n",
    "db_config = config['database_config']\n",
    "host = db_config['host']\n",
    "user = db_config['user']\n",
    "password = db_config['password']\n",
    "database = db_config['database']\n",
    "\n",
    "# # Access dataset paths\n",
    "# dataset1_path = config['dataset_paths']['dataset1']\n",
    "# dataset2_path = config['dataset_paths']['dataset2']\n",
    "# dataset3_path = config['dataset_paths']['dataset3']\n",
    "\n",
    "\n",
    "# # loading the data \n",
    "# # Use the paths from the configuration to read datasets\n",
    "# amazon_df = pd.read_csv(dataset1_path)\n",
    "# disney_df = pd.read_csv(dataset2_path)\n",
    "# netflix_df = pd.read_csv(dataset3_path)\n",
    "\n",
    "amazon_df = pd.read_csv(\"datasets\\\\amazon_prime_titles.csv\")\n",
    "disney_df = pd.read_csv(\"datasets\\\\disney_plus_titles.csv\")\n",
    "netflix_df = pd.read_csv(\"datasets\\\\netflix_titles.csv\")\n"
   ]
  },
  {
   "cell_type": "markdown",
   "metadata": {},
   "source": [
    "# 3. Exploratory Data Analysis\n",
    "\n",
    "## 3.1 Shape"
   ]
  },
  {
   "cell_type": "code",
   "execution_count": null,
   "metadata": {},
   "outputs": [],
   "source": [
    "amazon_df.shape"
   ]
  },
  {
   "cell_type": "code",
   "execution_count": null,
   "metadata": {},
   "outputs": [],
   "source": [
    "disney_df.shape"
   ]
  },
  {
   "cell_type": "code",
   "execution_count": null,
   "metadata": {},
   "outputs": [],
   "source": [
    "netflix_df.shape"
   ]
  },
  {
   "cell_type": "markdown",
   "metadata": {},
   "source": [
    "## 3.2 Data Types"
   ]
  },
  {
   "cell_type": "code",
   "execution_count": null,
   "metadata": {},
   "outputs": [],
   "source": [
    "amazon_df.info()"
   ]
  },
  {
   "cell_type": "code",
   "execution_count": null,
   "metadata": {},
   "outputs": [],
   "source": [
    "disney_df.info()"
   ]
  },
  {
   "cell_type": "code",
   "execution_count": null,
   "metadata": {},
   "outputs": [],
   "source": [
    "netflix_df.info()"
   ]
  },
  {
   "cell_type": "markdown",
   "metadata": {},
   "source": [
    "## 3.3 Checking missing values"
   ]
  },
  {
   "cell_type": "code",
   "execution_count": null,
   "metadata": {},
   "outputs": [],
   "source": [
    "amazon_df.isnull().sum()"
   ]
  },
  {
   "cell_type": "code",
   "execution_count": null,
   "metadata": {},
   "outputs": [],
   "source": [
    "disney_df.isnull().sum()"
   ]
  },
  {
   "cell_type": "code",
   "execution_count": null,
   "metadata": {},
   "outputs": [],
   "source": [
    "netflix_df.isnull().sum()"
   ]
  },
  {
   "cell_type": "markdown",
   "metadata": {},
   "source": [
    "## 3.4 Checking duplicate values"
   ]
  },
  {
   "cell_type": "code",
   "execution_count": null,
   "metadata": {},
   "outputs": [],
   "source": [
    "amazon_df.duplicated().sum()"
   ]
  },
  {
   "cell_type": "code",
   "execution_count": null,
   "metadata": {},
   "outputs": [],
   "source": [
    "disney_df.duplicated().sum()"
   ]
  },
  {
   "cell_type": "code",
   "execution_count": null,
   "metadata": {},
   "outputs": [],
   "source": [
    "netflix_df.duplicated().sum()"
   ]
  },
  {
   "cell_type": "markdown",
   "metadata": {},
   "source": [
    "## 3.4 Describe"
   ]
  },
  {
   "cell_type": "code",
   "execution_count": null,
   "metadata": {},
   "outputs": [],
   "source": [
    "amazon_df.describe().round(2)"
   ]
  },
  {
   "cell_type": "code",
   "execution_count": null,
   "metadata": {},
   "outputs": [],
   "source": [
    "disney_df.describe().round(2)"
   ]
  },
  {
   "cell_type": "code",
   "execution_count": null,
   "metadata": {},
   "outputs": [],
   "source": [
    "netflix_df.describe().round(2)"
   ]
  },
  {
   "cell_type": "markdown",
   "metadata": {},
   "source": [
    "# 4. Data Transformation\n",
    "\n",
    "## 4.1 Data Cleaning\n",
    "\n",
    "### 4.1.1 Amazon\n",
    "\n",
    "Country and date_added columns have more than 80% of the missing values and hence dropping them."
   ]
  },
  {
   "cell_type": "code",
   "execution_count": null,
   "metadata": {},
   "outputs": [],
   "source": [
    "# Dropping columns \n",
    "\n",
    "amazon_df = amazon_df.drop(['country', 'date_added'], axis=1)\n",
    "\n",
    "# Removing rows with null values in 'rating' column\n",
    "\n",
    "amazon_df.dropna(subset=['rating'], inplace=True)\n",
    "\n",
    "# Dropping irrelevant columns for analysis\n",
    "\n",
    "amazon_df = amazon_df.drop(['show_id','director','cast'], axis=1)"
   ]
  },
  {
   "cell_type": "markdown",
   "metadata": {},
   "source": [
    "### 4.1.2 Disney_Plus"
   ]
  },
  {
   "cell_type": "code",
   "execution_count": null,
   "metadata": {},
   "outputs": [],
   "source": [
    "# Dropping columns \n",
    "\n",
    "disney_df = disney_df.drop(['country', 'date_added'], axis=1)\n",
    "\n",
    "# Removing rows with null values in 'rating' column\n",
    "\n",
    "disney_df.dropna(subset=['rating'], inplace=True)\n",
    "\n",
    "# Dropping irrelevant columns for analysis\n",
    "\n",
    "disney_df = disney_df.drop(['show_id','director','cast'], axis=1)"
   ]
  },
  {
   "cell_type": "markdown",
   "metadata": {},
   "source": [
    "### 4.1.3 Netflix"
   ]
  },
  {
   "cell_type": "code",
   "execution_count": null,
   "metadata": {},
   "outputs": [],
   "source": [
    "# Dropping columns \n",
    "\n",
    "netflix_df = netflix_df.drop(['country', 'date_added'], axis=1)\n",
    "\n",
    "# Removing rows with null values in 'rating' column\n",
    "\n",
    "netflix_df.dropna(subset=['rating', 'duration'], inplace=True)\n",
    "\n",
    "# Dropping irrelevant columns for analysis\n",
    "\n",
    "netflix_df = netflix_df.drop(['show_id','director','cast'], axis=1)"
   ]
  },
  {
   "cell_type": "markdown",
   "metadata": {},
   "source": [
    "## 4.2 Adding new columns"
   ]
  },
  {
   "cell_type": "code",
   "execution_count": null,
   "metadata": {},
   "outputs": [],
   "source": [
    "amazon_df['platform'] = 'Amazon Prime'\n",
    "amazon_df['headquarters'] = 'Seattle, Washington'\n",
    "amazon_df['date_founded'] = '02/02/2005'\n",
    "\n",
    "disney_df['platform'] = 'Disney Plus'\n",
    "disney_df['headquarters'] = 'Los Angeles, California'\n",
    "disney_df['date_founded'] = '11/12/2019'\n",
    "\n",
    "netflix_df['platform'] = 'Netflix'\n",
    "netflix_df['headquarters'] = 'Los Gatos, California'\n",
    "netflix_df['date_founded'] = '08/29/1997'"
   ]
  },
  {
   "cell_type": "markdown",
   "metadata": {},
   "source": [
    "## 4.3 Merging the data frames\n",
    "\n",
    "Merging all the three data frames to a single dataframe for analysis."
   ]
  },
  {
   "cell_type": "code",
   "execution_count": null,
   "metadata": {},
   "outputs": [],
   "source": [
    "streaming_platforms_df = pd.concat([amazon_df,disney_df,netflix_df], ignore_index=True)\n",
    "\n",
    "streaming_platforms_df.head()"
   ]
  },
  {
   "cell_type": "code",
   "execution_count": null,
   "metadata": {},
   "outputs": [],
   "source": [
    "streaming_platforms_df.shape"
   ]
  },
  {
   "cell_type": "markdown",
   "metadata": {},
   "source": [
    "## 4.4 Renaming the Column"
   ]
  },
  {
   "cell_type": "code",
   "execution_count": null,
   "metadata": {},
   "outputs": [],
   "source": [
    "streaming_platforms_df.rename(columns={'listed_in':'genre'}, inplace=True)"
   ]
  },
  {
   "cell_type": "markdown",
   "metadata": {},
   "source": [
    "## 4.5 Formatting the data types\n",
    "\n",
    "Convert the string data type of 'date_founded' to datetime."
   ]
  },
  {
   "cell_type": "code",
   "execution_count": null,
   "metadata": {},
   "outputs": [],
   "source": [
    "streaming_platforms_df['date_founded'] = pd.to_datetime(streaming_platforms_df['date_founded'])"
   ]
  },
  {
   "cell_type": "markdown",
   "metadata": {},
   "source": [
    "## 4.6 Replacing the column values\n",
    "\n",
    "The dataset contains several redundant rating categories. For example, rating category 16, AGES_16_, 16+ represent the same category 16+. For analysis purpose, we replace the rating category values to a unified value."
   ]
  },
  {
   "cell_type": "code",
   "execution_count": null,
   "metadata": {},
   "outputs": [],
   "source": [
    "streaming_platforms_df['rating'].value_counts()"
   ]
  },
  {
   "cell_type": "code",
   "execution_count": null,
   "metadata": {},
   "outputs": [],
   "source": [
    "streaming_platforms_df['rating'].replace(['16','AGES_16_'], '16+', inplace=True)\n",
    "streaming_platforms_df['rating'].replace(['AGES_18_'], '18+', inplace=True)\n",
    "streaming_platforms_df['rating'].replace(['ALL_AGES'], 'ALL', inplace=True)\n",
    "streaming_platforms_df['rating'].replace(['TV-NR','UNRATED','NOT_RATE','UR'], 'NR', inplace=True)"
   ]
  },
  {
   "cell_type": "code",
   "execution_count": null,
   "metadata": {},
   "outputs": [],
   "source": [
    "streaming_platforms_df.head()"
   ]
  },
  {
   "cell_type": "code",
   "execution_count": null,
   "metadata": {},
   "outputs": [],
   "source": [
    "streaming_platforms_df.tail()"
   ]
  },
  {
   "cell_type": "markdown",
   "metadata": {},
   "source": [
    "### 5. Data Loading"
   ]
  },
  {
   "cell_type": "code",
   "execution_count": null,
   "metadata": {},
   "outputs": [],
   "source": [
    "try:\n",
    "    # Connect to MySQL\n",
    "    connection = mysql.connector.connect(\n",
    "        host=\"localhost\",\n",
    "        user=\"root\",\n",
    "        passwd=\"matrix01M\"\n",
    "    )\n",
    "\n",
    "   \n",
    "    cursor = connection.cursor()\n",
    "\n",
    "    # Name of the database you wish to create\n",
    "    database_name = 'Group_5'\n",
    "    \n",
    "    # SQL statement to execute\n",
    "    sql = f\"CREATE DATABASE IF NOT EXISTS {database_name}\"\n",
    "\n",
    "    # Execute the SQL statement\n",
    "    cursor.execute(sql)\n",
    "\n",
    "    # Select Database\n",
    "    cursor.execute(f\"USE {database_name}\")\n",
    "\n",
    "    \n",
    "    # Define SQL statements to create tables\n",
    "    create_movie_table_query = \"\"\"\n",
    "    CREATE TABLE IF NOT EXISTS movie (\n",
    "        id INT AUTO_INCREMENT PRIMARY KEY,\n",
    "        title VARCHAR(255),\n",
    "        release_year INT,\n",
    "        rating VARCHAR(10),\n",
    "        duration VARCHAR(20),\n",
    "        description TEXT,\n",
    "        platform VARCHAR(50),\n",
    "        headquarters VARCHAR(100),\n",
    "        date_founded DATE\n",
    "    )\n",
    "    \"\"\"\n",
    "\n",
    "    create_genre_table_query = \"\"\"\n",
    "    CREATE TABLE IF NOT EXISTS genre (\n",
    "        id INT AUTO_INCREMENT PRIMARY KEY,\n",
    "        genre_name VARCHAR(255) UNIQUE\n",
    "    )\n",
    "    \"\"\"\n",
    "\n",
    "    create_streaming_platform_table_query = \"\"\"\n",
    "    CREATE TABLE IF NOT EXISTS streaming_platform (\n",
    "        id INT AUTO_INCREMENT PRIMARY KEY,\n",
    "        platform_name VARCHAR(50) UNIQUE,\n",
    "        headquarters VARCHAR(100),\n",
    "        date_founded DATE\n",
    "    )\n",
    "    \"\"\"\n",
    "\n",
    "    create_tv_show_table_query = \"\"\"\n",
    "    CREATE TABLE IF NOT EXISTS tv_show (\n",
    "        id INT AUTO_INCREMENT PRIMARY KEY,\n",
    "        title VARCHAR(255),\n",
    "        release_year INT,\n",
    "        rating VARCHAR(10),\n",
    "        duration VARCHAR(20),\n",
    "        description TEXT,\n",
    "        platform VARCHAR(50),\n",
    "        headquarters VARCHAR(100),\n",
    "        date_founded DATE\n",
    "    )\n",
    "    \"\"\"\n",
    "\n",
    "    # Execute the queries\n",
    "    cursor.execute(create_movie_table_query)\n",
    "    cursor.execute(create_genre_table_query)\n",
    "    cursor.execute(create_streaming_platform_table_query)\n",
    "    cursor.execute(create_tv_show_table_query)\n",
    "\n",
    "    # Commit the transaction\n",
    "    connection.commit()\n",
    "\n",
    "    print(\"Tables created successfully!\")\n",
    "\n",
    "except mysql.connector.Error as error:\n",
    "    print(\"Error:\", error)\n"
   ]
  },
  {
   "cell_type": "code",
   "execution_count": null,
   "metadata": {},
   "outputs": [],
   "source": [
    "# Create rating table\n",
    "try:\n",
    "    cursor.execute(\"\"\"\n",
    "    CREATE TABLE IF NOT EXISTS rating (\n",
    "        id INT AUTO_INCREMENT PRIMARY KEY,\n",
    "        rating_value VARCHAR(10) NOT NULL\n",
    "    )\n",
    "    \"\"\")\n",
    "    \n",
    "    print(\"Table 'rating' created successfully!\")\n",
    "\n",
    "except mysql.connector.Error as error:\n",
    "    print(\"Error:\", error)"
   ]
  },
  {
   "cell_type": "code",
   "execution_count": null,
   "metadata": {
    "scrolled": true
   },
   "outputs": [],
   "source": [
    "#See the tables for Group_5 schema \n",
    "query = \"SHOW TABLES\"\n",
    "cursor.execute(query)\n",
    "tables = cursor.fetchall()\n",
    "\n",
    "# Print the table names\n",
    "for table in tables:\n",
    "    print(table[0])"
   ]
  },
  {
   "cell_type": "markdown",
   "metadata": {},
   "source": [
    "### Load data into SQL database tables "
   ]
  },
  {
   "cell_type": "code",
   "execution_count": null,
   "metadata": {},
   "outputs": [],
   "source": [
    "# Iterate over each row in the DataFrame\n",
    "for index, row in streaming_platforms_df.iterrows():\n",
    "    # Check if the platform already exists\n",
    "    platform_query = \"SELECT * FROM streaming_platform WHERE platform_name = %s\"\n",
    "    cursor.execute(platform_query, (row['platform'],))\n",
    "    existing_platform = cursor.fetchone()\n",
    "\n",
    "    if not existing_platform:\n",
    "        # Insert into streaming_platform table\n",
    "        streaming_platform_query = \"INSERT INTO streaming_platform (platform_name, headquarters, date_founded) VALUES (%s, %s, %s)\"\n",
    "        streaming_platform_data = (row['platform'], row['headquarters'], str(row['date_founded']))\n",
    "        cursor.execute(streaming_platform_query, streaming_platform_data)\n",
    "\n",
    "    # Insert into movie or TV show table\n",
    "    if row['type'] == 'Movie':\n",
    "        movie_query = \"INSERT INTO movie (title, release_year, rating, duration, description, platform, headquarters, date_founded) VALUES (%s, %s, %s, %s, %s, %s, %s, %s)\"\n",
    "        movie_data = (row['title'], row['release_year'], row['rating'], row['duration'], row['description'], row['platform'], row['headquarters'], str(row['date_founded']))\n",
    "        cursor.execute(movie_query, movie_data)\n",
    "    elif row['type'] == 'TV Show':\n",
    "        tv_show_query = \"INSERT INTO tv_show (title, release_year, rating, duration, description, platform, headquarters, date_founded) VALUES (%s, %s, %s, %s, %s, %s, %s, %s)\"\n",
    "        tv_show_data = (row['title'], row['release_year'], row['rating'], row['duration'], row['description'], row['platform'], row['headquarters'], str(row['date_founded']))\n",
    "        cursor.execute(tv_show_query, tv_show_data)\n",
    "\n",
    "# Commit the changes and close the connection\n",
    "connection.commit()"
   ]
  },
  {
   "cell_type": "code",
   "execution_count": null,
   "metadata": {},
   "outputs": [],
   "source": [
    "# Still need to do genre, which has multiple genres separated by commas in each response. "
   ]
  },
  {
   "cell_type": "code",
   "execution_count": null,
   "metadata": {},
   "outputs": [],
   "source": [
    "query = \"\"\"\n",
    "SELECT release_year, COUNT(*) as count\n",
    "FROM movie\n",
    "GROUP BY release_year\n",
    "ORDER BY release_year;\n",
    "\"\"\"\n",
    "\n",
    "# Use pandas to load the query result into a DataFrame\n",
    "df_content_per_year = pd.read_sql(query, connection)\n",
    "\n",
    "# Plotting the data\n",
    "plt.figure(figsize=(14,6))\n",
    "sns.barplot(x=df_content_per_year['release_year'], y=df_content_per_year['count'], palette=\"viridis\")\n",
    "plt.title('Number of Contents Released Each Year')\n",
    "plt.xlabel('Year')\n",
    "plt.ylabel('Number of Contents')\n",
    "plt.xticks(rotation=90)  # Rotate x-axis labels to vertical\n",
    "plt.tight_layout()\n",
    "plt.show()"
   ]
  },
  {
   "cell_type": "code",
   "execution_count": null,
   "metadata": {},
   "outputs": [],
   "source": [
    "print(disney_df.columns)"
   ]
  },
  {
   "cell_type": "code",
   "execution_count": null,
   "metadata": {},
   "outputs": [],
   "source": [
    "# #Finding number of contents by genre\n",
    "# #Need to separate each strings in genre since they can have multiple genres in a single program\n",
    "# genre_count = disney_df['genre'].str.split(',').explode().str.strip().value_counts()\n",
    "\n",
    "# plt.figure(figsize=(12,8))`\n",
    "# sns.barplot(y=genre_count.index, x=genre_count.values, palette=\"viridis\")\n",
    "# plt.xlabel('Number of Contents')\n",
    "# plt.ylabel('Genre')\n",
    "# plt.title('Content Counts by Genre')\n",
    "# plt.show()"
   ]
  },
  {
   "cell_type": "code",
   "execution_count": null,
   "metadata": {},
   "outputs": [],
   "source": [
    "#Simply looking at percentage of Movie and TV shows \n",
    "content_type_dist = disney_df['type'].value_counts()\n",
    "\n",
    "plt.figure(figsize=(4,4))\n",
    "content_type_dist.plot.pie(autopct='%1.1f%%', startangle=90)\n",
    "plt.title('Distribution of Content Types on Disney+')\n",
    "plt.ylabel('')  #hiding y axis since it is distractive \n",
    "plt.show()"
   ]
  },
  {
   "cell_type": "code",
   "execution_count": null,
   "metadata": {},
   "outputs": [],
   "source": [
    "rating_counts = disney_df['rating'].value_counts()\n",
    "\n",
    "plt.figure(figsize=(5,3))\n",
    "sns.barplot(x=rating_counts.index, y=rating_counts.values, palette='viridis')\n",
    "plt.title('Distribution of Contents by Rating on Disney+')\n",
    "plt.xlabel('Rating')\n",
    "plt.ylabel('Number of Contents')\n",
    "plt.xticks(rotation=45)\n",
    "plt.tight_layout()\n",
    "plt.show()\n"
   ]
  },
  {
   "cell_type": "code",
   "execution_count": null,
   "metadata": {},
   "outputs": [],
   "source": [
    "sns.stripplot(x='release_year' , y='rating', data=disney_df)"
   ]
  },
  {
   "cell_type": "code",
   "execution_count": null,
   "metadata": {},
   "outputs": [],
   "source": [
    "plt.figure(figsize=(10, 6))\n",
    "rating_counts.sort_index().plot(kind='bar', color='skyblue')\n",
    "plt.title('Distribution of Age Ratings')\n",
    "plt.xlabel('Age Rating')\n",
    "plt.ylabel('Number of Movies')\n",
    "plt.show()"
   ]
  },
  {
   "cell_type": "code",
   "execution_count": null,
   "metadata": {},
   "outputs": [],
   "source": [
    "# Distribution of movies by release year\n",
    "plt.figure(figsize=(12, 6))\n",
    "sns.histplot(disney_df['release_year'], bins=30, kde=True, color='skyblue')\n",
    "plt.title('Distribution of Movies by Release Year')\n",
    "plt.xlabel('Release Year')\n",
    "plt.ylabel('Number of Movies')\n",
    "plt.show()"
   ]
  },
  {
   "cell_type": "code",
   "execution_count": null,
   "metadata": {},
   "outputs": [],
   "source": [
    "# Distribution of movies by release year\n",
    "plt.figure(figsize=(12, 6))\n",
    "sns.histplot(netflix_df['release_year'], bins=30, kde=True, color='skyblue')\n",
    "plt.title('Distribution of Movies by Release Year')\n",
    "plt.xlabel('Release Year')\n",
    "plt.ylabel('Number of Movies')\n",
    "plt.show()"
   ]
  },
  {
   "cell_type": "code",
   "execution_count": null,
   "metadata": {},
   "outputs": [],
   "source": [
    "# Distribution of movies by release year\n",
    "plt.figure(figsize=(12, 6))\n",
    "sns.histplot(amazon_df['release_year'], bins=30, kde=True, color='skyblue')\n",
    "plt.title('Distribution of Movies by Release Year')\n",
    "plt.xlabel('Release Year')\n",
    "plt.ylabel('Number of Movies')\n",
    "plt.show()"
   ]
  },
  {
   "cell_type": "code",
   "execution_count": null,
   "metadata": {},
   "outputs": [],
   "source": [
    "query = \"\"\"\n",
    "SELECT *\n",
    "FROM movie;\n",
    "\"\"\"\n",
    "\n",
    "# Use pandas to load the query result into a DataFrame\n",
    "movies_df = pd.read_sql(query, connection)\n",
    "\n",
    "\n",
    "# Distribution of ratings\n",
    "plt.figure(figsize=(10, 6))\n",
    "sns.countplot(x='rating', data=movies_df, order=movies_df['rating'].value_counts().index, palette='viridis')\n",
    "plt.title('Distribution of Ratings')\n",
    "plt.xlabel('Rating')\n",
    "plt.ylabel('Number of Movies')\n",
    "plt.xticks(rotation=45, ha='right')\n",
    "plt.show()"
   ]
  },
  {
   "cell_type": "code",
   "execution_count": null,
   "metadata": {},
   "outputs": [],
   "source": [
    "# **** SAME QUERY JUST DIFFERENT COLORS *****\n",
    "query = \"\"\"\n",
    "SELECT *\n",
    "FROM movie;\n",
    "\"\"\"\n",
    "\n",
    "# Use pandas to load the query result into a DataFrame\n",
    "movies_df = pd.read_sql(query, connection)\n",
    "\n",
    "\n",
    "# Distribution of ratings\n",
    "plt.figure(figsize=(10, 6))\n",
    "sns.countplot(x='rating', data=movies_df, order=movies_df['rating'].value_counts().index, palette='plasma')\n",
    "plt.title('Distribution of Ratings')\n",
    "plt.xlabel('Rating')\n",
    "plt.ylabel('Number of Movies')\n",
    "plt.xticks(rotation=45, ha='right')\n",
    "plt.show()"
   ]
  },
  {
   "cell_type": "code",
   "execution_count": null,
   "metadata": {},
   "outputs": [],
   "source": [
    "query = \"\"\"\n",
    "SELECT *\n",
    "FROM tv_show;\n",
    "\"\"\"\n",
    "\n",
    "# Use pandas to load the query result into a DataFrame\n",
    "shows_df = pd.read_sql(query, connection)\n",
    "\n",
    "# Distribution of ratings\n",
    "plt.figure(figsize=(10, 6))\n",
    "sns.countplot(x='rating', data=shows_df, order=shows_df['rating'].value_counts().index, palette='viridis')\n",
    "plt.title('Distribution of Ratings')\n",
    "plt.xlabel('Rating')\n",
    "plt.ylabel('Number of TV Shows')\n",
    "plt.xticks(rotation=45, ha='right')\n",
    "plt.show()"
   ]
  },
  {
   "cell_type": "code",
   "execution_count": null,
   "metadata": {},
   "outputs": [],
   "source": [
    "# # **** NO GENRE INFO AVAILABLE ****\n",
    "# # Top genres\n",
    "# top_genres = data['listed_in'].value_counts().head(10)\n",
    "\n",
    "# # Plot Top Genres\n",
    "# plt.figure(figsize=(12, 6))\n",
    "# sns.barplot(x=top_genres.values, y=top_genres.index, palette='muted')\n",
    "# plt.title('Top 10 Genres')\n",
    "# plt.xlabel('Number of Movies')\n",
    "# plt.ylabel('Genre')\n",
    "# plt.show()"
   ]
  },
  {
   "cell_type": "code",
   "execution_count": null,
   "metadata": {},
   "outputs": [],
   "source": [
    "data_count1=disney_df['rating'].value_counts().reset_index()\n",
    "plt.figure(figsize=(16,6))\n",
    "sns.countplot(x='rating',data=disney_df,hue='type',order=disney_df['rating'].value_counts().index)\n",
    "plt.xticks(rotation=90)\n",
    "plt.title('Distribution of show rating')\n",
    "plt.xlabel('Rating')\n",
    "plt.ylabel('Number of Shows')\n",
    "plt.show()"
   ]
  },
  {
   "cell_type": "code",
   "execution_count": null,
   "metadata": {},
   "outputs": [],
   "source": []
  }
 ],
 "metadata": {
  "kernelspec": {
   "display_name": "Python 3 (ipykernel)",
   "language": "python",
   "name": "python3"
  },
  "language_info": {
   "codemirror_mode": {
    "name": "ipython",
    "version": 3
   },
   "file_extension": ".py",
   "mimetype": "text/x-python",
   "name": "python",
   "nbconvert_exporter": "python",
   "pygments_lexer": "ipython3",
   "version": "3.11.8"
  }
 },
 "nbformat": 4,
 "nbformat_minor": 4
}
